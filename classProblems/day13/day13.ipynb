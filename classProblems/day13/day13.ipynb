{
 "cells": [
  {
   "cell_type": "markdown",
   "source": [
    "<h1>Day 13 Problems</h1>\n",
    "<h2>Project #35: Card Game</h2>\n",
    "<a href = \"https://dmoj.ca/problem/ccc99s1\">Problem here</a>\n",
    "\n",
    "- store card names in list\n",
    "- check for high cards in the high card list\n",
    "<p>Below are the function definitions for each of the card instances. The basic idea is to create a list of the next N cards to then iterate through and check for high cards. If no high cards, add points to the player whose turn it is.</p>"
   ],
   "metadata": {}
  },
  {
   "cell_type": "code",
   "execution_count": 140,
   "source": [
    "cards = [\"two\",\"three\",\"four\",\"five\",\"six\",\"seven\",\"eight\",\"nine\",\"ten\",\"jack\",\"queen\",\"king\",\"ace\"]\n",
    "highCards = [\"jack\",\"queen\",\"king\",\"ace\"]\n",
    "\n",
    "def aceChecker():\n",
    "    global playerAscore\n",
    "    global playerBscore\n",
    "    aceCards = [cardInput[i+1].strip(), cardInput[i+2].strip(),cardInput[i+3].strip(),cardInput[i+4].strip()]\n",
    "    count = 0\n",
    "    for card in aceCards:\n",
    "        if card in highCards:\n",
    "            break\n",
    "        else:\n",
    "            count+=1\n",
    "    if count == 4:\n",
    "        if playerAturn:\n",
    "            playerAscore += 4\n",
    "            print(\"Player A scores 4 point(s).\")\n",
    "        elif not playerAturn:\n",
    "            playerBscore +=4\n",
    "            print(\"Player B scores 4 point(s).\")\n",
    "\n",
    "def kingChecker():\n",
    "    global playerAscore\n",
    "    global playerBscore\n",
    "    kingCards = [cardInput[i+1].strip(), cardInput[i+2].strip(),cardInput[i+3].strip()]\n",
    "    count = 0\n",
    "    for card in kingCards:\n",
    "        if card in highCards:\n",
    "            break\n",
    "        else:\n",
    "            count+=1\n",
    "    if count == 3:\n",
    "        if playerAturn:\n",
    "            playerAscore += 3\n",
    "            print(\"Player A scores 3 point(s).\")\n",
    "        elif not playerAturn:\n",
    "            playerBscore +=3\n",
    "            print(\"Player B scores 3 point(s).\")\n",
    "\n",
    "def queenChecker():\n",
    "    global playerAscore\n",
    "    global playerBscore\n",
    "    queenCards = [cardInput[i+1].strip(), cardInput[i+2].strip()]\n",
    "    count = 0\n",
    "    for card in queenCards:\n",
    "        if card in highCards:\n",
    "            break\n",
    "        else:\n",
    "            count+=1\n",
    "    if count == 2:\n",
    "        if playerAturn:\n",
    "            playerAscore += 2\n",
    "            print(\"Player A scores 2 point(s).\")\n",
    "        elif not playerAturn:\n",
    "            playerBscore +=2\n",
    "            print(\"Player B scores 2 point(s).\")\n",
    "\n",
    "def jackChecker():\n",
    "    global playerAscore\n",
    "    global playerBscore\n",
    "    aceCards = [cardInput[i+1].strip()]\n",
    "    count = 0\n",
    "    for card in aceCards:\n",
    "        if card in highCards:\n",
    "            break\n",
    "        else:\n",
    "            count+=1\n",
    "    if count == 1:\n",
    "        if playerAturn:\n",
    "            playerAscore += 1\n",
    "            print(\"Player A scores 1 point(s).\")\n",
    "        elif not playerAturn:\n",
    "            playerBscore += 1\n",
    "            print(\"Player B scores 1 point(s).\")"
   ],
   "outputs": [],
   "metadata": {}
  },
  {
   "cell_type": "markdown",
   "source": [
    "<p>Now that the above functions are defined, a for loop can iterate through the entire input of cards and evaluate each high card occurence.</p>"
   ],
   "metadata": {}
  },
  {
   "cell_type": "code",
   "execution_count": 141,
   "source": [
    "with open(\"../resources/cardgame.txt\") as f:\n",
    "    cardInput = f.readlines()\n",
    "\n",
    "playerAturn = False\n",
    "global playerAscore; playerAscore = 0\n",
    "global playerBscore; playerBscore = 0\n",
    "\n",
    "for i in range(len(cardInput)):\n",
    "    playerAturn = not playerAturn\n",
    "    card = cardInput[i].strip()\n",
    "    if card in highCards:\n",
    "        if card ==\"ace\" and i <=48:\n",
    "            aceChecker()\n",
    "        elif card ==\"king\" and i <=49:\n",
    "            kingChecker()\n",
    "        elif card == \"queen\" and i <=50:\n",
    "            queenChecker()\n",
    "        elif card == \"jack\" and i <= 51:\n",
    "            jackChecker()\n",
    "\n",
    "print(\"Player A: \"+ str(playerAscore))\n",
    "print(\"Player B: \" + str(playerBscore))  "
   ],
   "outputs": [
    {
     "output_type": "stream",
     "name": "stdout",
     "text": [
      "Player A scores 2 point(s).\n",
      "Player A scores 1 point(s).\n",
      "Player A scores 3 point(s).\n",
      "Player B scores 3 point(s).\n",
      "Player A scores 1 point(s).\n",
      "Player B scores 4 point(s).\n",
      "Player A: 7\n",
      "Player B: 7\n"
     ]
    }
   ],
   "metadata": {}
  },
  {
   "cell_type": "markdown",
   "source": [
    "<h2>Project #36: Cleaning the Room</h2>\n",
    "<a href = \"https://acm.timus.ru/problem.aspx?space=1&num=2144&locale=en\">Problem here</a>\n",
    "<p>Arranging boxes in non-decreasing order. Each box cannot be rearranged.</p>\n",
    "\n",
    "- iterate through each set of boxes to be organized.\n",
    "- check each box for the greatest and smallest value in each\n",
    "- if the greatest value in a box is greater than the smallest value of the next box return false"
   ],
   "metadata": {}
  },
  {
   "cell_type": "code",
   "execution_count": 142,
   "source": [
    "boxes1 = [[1,2],[7,7,7],[5],[6,8]]\n",
    "boxes2 = [[1,3],[2]]\n",
    "\n",
    "def boxStacker(boxes:list):\n",
    "    boxData = []\n",
    "    for box in boxes:\n",
    "        if sorted(box) != box:\n",
    "            return False\n",
    "        else:\n",
    "            boxData.append((min(box),max(box)))\n",
    "    for i in range(len(boxData)-1):\n",
    "        if boxData[i][1] > boxData[i+1][0]:\n",
    "            return False\n",
    "    return True\n",
    "    \n",
    "boxStacker(boxes1)"
   ],
   "outputs": [
    {
     "output_type": "execute_result",
     "data": {
      "text/plain": [
       "False"
      ]
     },
     "metadata": {},
     "execution_count": 142
    }
   ],
   "metadata": {}
  },
  {
   "cell_type": "markdown",
   "source": [
    "<h2>Project #37: Distinct Numbers in a Year</h2>\n",
    "<a href =\"https://dmoj.ca/problem/ccc13s1\">Problem here</a>\n",
    "<p>The only issue I can imagine is where to end the for loop when searching for numbers.</p>"
   ],
   "metadata": {}
  },
  {
   "cell_type": "code",
   "execution_count": 143,
   "source": [
    "def distinctChecker(year):\n",
    "    x = [int(a) for a in str(year)]\n",
    "    for i in range(len(x)):\n",
    "        if x.pop() in x:\n",
    "            return False\n",
    "    return True\n",
    "\n",
    "def nextDistinctNumber(year):\n",
    "    for i in range(year+1,1000000):\n",
    "        if distinctChecker(i):\n",
    "            return i\n",
    "\n",
    "nextDistinctNumber(120000)"
   ],
   "outputs": [
    {
     "output_type": "execute_result",
     "data": {
      "text/plain": [
       "120345"
      ]
     },
     "metadata": {},
     "execution_count": 143
    }
   ],
   "metadata": {}
  }
 ],
 "metadata": {
  "orig_nbformat": 4,
  "language_info": {
   "name": "python",
   "version": "3.9.6",
   "mimetype": "text/x-python",
   "codemirror_mode": {
    "name": "ipython",
    "version": 3
   },
   "pygments_lexer": "ipython3",
   "nbconvert_exporter": "python",
   "file_extension": ".py"
  },
  "kernelspec": {
   "name": "python3",
   "display_name": "Python 3.9.6 64-bit"
  },
  "interpreter": {
   "hash": "aee8b7b246df8f9039afb4144a1f6fd8d2ca17a180786b69acc140d282b71a49"
  }
 },
 "nbformat": 4,
 "nbformat_minor": 2
}