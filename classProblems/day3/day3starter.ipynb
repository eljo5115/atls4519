{
  "nbformat": 4,
  "nbformat_minor": 2,
  "metadata": {
    "colab": {
      "name": "Day3.ipynb",
      "provenance": []
    },
    "kernelspec": {
      "name": "python3",
      "display_name": "Python 3.9.6 64-bit"
    },
    "language_info": {
      "name": "python",
      "version": "3.9.6",
      "mimetype": "text/x-python",
      "codemirror_mode": {
        "name": "ipython",
        "version": 3
      },
      "pygments_lexer": "ipython3",
      "nbconvert_exporter": "python",
      "file_extension": ".py"
    },
    "interpreter": {
      "hash": "aee8b7b246df8f9039afb4144a1f6fd8d2ca17a180786b69acc140d282b71a49"
    }
  },
  "cells": [
    {
      "cell_type": "markdown",
      "source": [
        "Impractical Project #7: Counting Syllables\n",
        "\n",
        "Objective: Write a Python program that counts the number of syllables in an English word or phrase.\n",
        "\n",
        "Pseudocode:\n",
        "- Text here."
      ],
      "metadata": {
        "id": "TSQsAkJWGyro"
      }
    },
    {
      "cell_type": "code",
      "execution_count": 1,
      "source": [
        "\"\"\"Find words in haiku corpus missing from cmudict & build exceptions dict.\"\"\"\n",
        "import nltk\n",
        "nltk.download('cmudict')\n",
        "  \n",
        "\n",
        "import sys\n",
        "from string import punctuation\n",
        "import pprint\n",
        "import json\n",
        "from nltk.corpus import cmudict\n",
        "\n",
        "cmudict = cmudict.dict()  # Carnegie Mellon University Pronouncing Dictionary\n",
        "\n",
        "def load_haiku(filename):\n",
        "    \"\"\"Open and return training corpus of haiku as a set.\"\"\"\n",
        "    with open(filename) as in_file:\n",
        "        haiku = set(in_file.read().replace('-', ' ').split())\n",
        "        return haiku\n",
        "\n",
        "def cmudict_missing(word_set):\n",
        "    \"\"\"Find and return words in word set missing from cmudict.\"\"\"\n",
        "    exceptions = set()\n",
        "    for word in word_set:\n",
        "        word = word.lower().strip(punctuation)\n",
        "        if word.endswith(\"'s\") or word.endswith(\"’s\"):\n",
        "            word = word[:-2]\n",
        "        if word not in cmudict:\n",
        "            exceptions.add(word)\n",
        "    print(\"\\nexceptions:\")\n",
        "    print(*exceptions, sep='\\n')\n",
        "    print(\"\\nNumber of unique words in haiku corpus = {}\".format(len(word_set)))\n",
        "    print(\"Number of words in corpus not in cmudict = {}\"\n",
        "          .format(len(exceptions)))\n",
        "    membership = (1 - (len(exceptions) / len(word_set))) * 100\n",
        "    print(\"cmudict membership = {:.1f}{}\".format(membership, '%'))\n",
        "    return exceptions\n",
        "\n",
        "def make_exceptions_dict(exceptions_set):\n",
        "    \"\"\"Return dictionary of words and syllable counts from set of words.\"\"\"\n",
        "    missing_words = {}\n",
        "    print(\"Input # syllables in word. Mistakes can be corrected at end. \\n\")\n",
        "    for word in exceptions_set:\n",
        "        while True:\n",
        "            num_sylls = input(\"Enter number syllables in {}: \".format(word))\n",
        "            if num_sylls.isdigit():\n",
        "                break\n",
        "            else:\n",
        "                print(\"                   Not a valid answer!\", file=sys.stderr)                    \n",
        "        missing_words[word] = int(num_sylls)              \n",
        "    print()\n",
        "    pprint.pprint(missing_words, width=1)\n",
        "\n",
        "    print(\"\\nMake Changes to Dictionary Before Saving?\")\n",
        "    print(\"\"\"\n",
        "    0 - Exit & Save\n",
        "    1 - Add a Word or Change a Syllable Count \n",
        "    2 - Remove a Word\n",
        "    \"\"\")\n",
        "\n",
        "    while True:\n",
        "        choice = input(\"\\nEnter choice: \")   \n",
        "        if choice == '0':\n",
        "            break\n",
        "        elif choice == '1':\n",
        "            word = input(\"\\nWord to add or change: \")\n",
        "            missing_words[word] = int(input(\"Enter number syllables in {}: \"\n",
        "                                            .format(word)))\n",
        "        elif choice == '2':\n",
        "            word = input(\"\\nEnter word to delete: \")\n",
        "            missing_words.pop(word, None)\n",
        "            \n",
        "    print(\"\\nNew words or syllable changes:\")\n",
        "    pprint.pprint(missing_words, width=1)\n",
        "\n",
        "    return missing_words\n",
        "\n",
        "def save_exceptions(missing_words):\n",
        "    \"\"\"Save exceptions dictionary as json file.\"\"\"\n",
        "    json_string = json.dumps(missing_words)\n",
        "    f = open('missing_words.json', 'w')\n",
        "    f.write(json_string)\n",
        "    f.close()\n",
        "    print(\"\\nFile saved as missing_words.json\")\n",
        "\n"
      ],
      "outputs": [
        {
          "output_type": "error",
          "ename": "ModuleNotFoundError",
          "evalue": "No module named 'nltk'",
          "traceback": [
            "\u001b[0;31m---------------------------------------------------------------------------\u001b[0m",
            "\u001b[0;31mModuleNotFoundError\u001b[0m                       Traceback (most recent call last)",
            "Input \u001b[0;32mIn [1]\u001b[0m, in \u001b[0;36m<cell line: 2>\u001b[0;34m()\u001b[0m\n\u001b[1;32m      1\u001b[0m \u001b[38;5;124;03m\"\"\"Find words in haiku corpus missing from cmudict & build exceptions dict.\"\"\"\u001b[39;00m\n\u001b[0;32m----> 2\u001b[0m \u001b[38;5;28;01mimport\u001b[39;00m \u001b[38;5;21;01mnltk\u001b[39;00m\n\u001b[1;32m      3\u001b[0m nltk\u001b[38;5;241m.\u001b[39mdownload(\u001b[38;5;124m'\u001b[39m\u001b[38;5;124mcmudict\u001b[39m\u001b[38;5;124m'\u001b[39m)\n\u001b[1;32m      6\u001b[0m \u001b[38;5;28;01mimport\u001b[39;00m \u001b[38;5;21;01msys\u001b[39;00m\n",
            "\u001b[0;31mModuleNotFoundError\u001b[0m: No module named 'nltk'"
          ]
        }
      ],
      "metadata": {
        "colab": {
          "base_uri": "https://localhost:8080/"
        },
        "id": "VvIaetR-GwIb",
        "outputId": "b6423088-ebe2-432a-e7f6-6e0878834427"
      }
    },
    {
      "cell_type": "code",
      "execution_count": 7,
      "source": [
        "haiku = load_haiku('train.txt')\n",
        "except1ions = cmudict_missing(haiku)\n",
        "build_dict = input(\"\\nManually build an exceptions dictionary (y/n)? \\n\")\n",
        "if build_dict.lower() == 'n':\n",
        "    sys.exit()\n",
        "else:\n",
        "    missing_words_dict = make_exceptions_dict(exceptions)\n",
        "    save_exceptions(missing_words_dict)\n",
        "    "
      ],
      "outputs": [
        {
          "output_type": "stream",
          "name": "stdout",
          "text": [
            "\n",
            "exceptions:\n",
            "petaled\n",
            "colour\n",
            "woodcutter\n",
            "ridgelines\n",
            "lichened\n",
            "shadeless\n",
            "inuyasha\n",
            "cloudbank\n",
            "samisen\n",
            "foregather\n",
            "dusky\n",
            "yowl\n",
            "wintery\n",
            "persimmons\n",
            "whippoorwill\n",
            "battlers\n",
            "mooing\n",
            "archways\n",
            "oranged\n",
            "tendrils\n",
            "cloudbanks\n",
            "furue\n",
            "camellia\n",
            "scatters\n",
            "spiritless\n",
            "moonrise\n",
            "storks\n",
            "beholders\n",
            "pattering\n",
            "dragonfly\n",
            "swordhand\n",
            "cumulus\n",
            "tendrilled\n",
            "carven\n",
            "atsuta\n",
            "stretchings\n",
            "treeline\n",
            "skims\n",
            "windless\n",
            "bathwater\n",
            "hibiscus\n",
            "nursemaid\n",
            "dewdrop\n",
            "paperweights\n",
            "windblown\n",
            "creepers\n",
            "wisteria\n",
            "evenfall\n",
            "froglings\n",
            "morningglory\n",
            "deepener\n",
            "samuri\n",
            "nightingales\n",
            "fie\n",
            "treehouse\n",
            "asakura\n",
            "watersplash\n",
            "priestling\n",
            "\n",
            "Number of unique words in haiku corpus = 1523\n",
            "Number of words in corpus not in cmudict = 58\n",
            "cmudict membership = 96.2%\n",
            "\n",
            "Manually build an exceptions dictionary (y/n)? \n",
            "y\n"
          ]
        },
        {
          "output_type": "error",
          "ename": "NameError",
          "evalue": "ignored",
          "traceback": [
            "\u001b[0;31m---------------------------------------------------------------------------\u001b[0m",
            "\u001b[0;31mNameError\u001b[0m                                 Traceback (most recent call last)",
            "\u001b[0;32m<ipython-input-7-2cd87d17da4e>\u001b[0m in \u001b[0;36m<module>\u001b[0;34m()\u001b[0m\n\u001b[1;32m      5\u001b[0m     \u001b[0msys\u001b[0m\u001b[0;34m.\u001b[0m\u001b[0mexit\u001b[0m\u001b[0;34m(\u001b[0m\u001b[0;34m)\u001b[0m\u001b[0;34m\u001b[0m\u001b[0;34m\u001b[0m\u001b[0m\n\u001b[1;32m      6\u001b[0m \u001b[0;32melse\u001b[0m\u001b[0;34m:\u001b[0m\u001b[0;34m\u001b[0m\u001b[0;34m\u001b[0m\u001b[0m\n\u001b[0;32m----> 7\u001b[0;31m     \u001b[0mmissing_words_dict\u001b[0m \u001b[0;34m=\u001b[0m \u001b[0mmake_exceptions_dict\u001b[0m\u001b[0;34m(\u001b[0m\u001b[0mexceptions\u001b[0m\u001b[0;34m)\u001b[0m\u001b[0;34m\u001b[0m\u001b[0;34m\u001b[0m\u001b[0m\n\u001b[0m\u001b[1;32m      8\u001b[0m     \u001b[0msave_exceptions\u001b[0m\u001b[0;34m(\u001b[0m\u001b[0mmissing_words_dict\u001b[0m\u001b[0;34m)\u001b[0m\u001b[0;34m\u001b[0m\u001b[0;34m\u001b[0m\u001b[0m\n\u001b[1;32m      9\u001b[0m \u001b[0;34m\u001b[0m\u001b[0m\n",
            "\u001b[0;31mNameError\u001b[0m: name 'exceptions' is not defined"
          ]
        }
      ],
      "metadata": {
        "colab": {
          "base_uri": "https://localhost:8080/",
          "height": 1000
        },
        "id": "yvbu-8Kmel1O",
        "outputId": "0c3d1c87-4b89-4f5f-972a-371c920e4af4"
      }
    },
    {
      "cell_type": "code",
      "execution_count": null,
      "source": [
        "## SYLLABLE COUNTING CODE HERE"
      ],
      "outputs": [],
      "metadata": {
        "id": "MLEF_Bg1fx6o"
      }
    },
    {
      "cell_type": "markdown",
      "source": [
        "Impractical Project #8: Writing Haikus\n",
        "\n",
        "Objective: Write a program that generates haiku using Markov chain analysis. Allow the user to modify the haiku by independently regenerating lines two and three.\n",
        "\n",
        "Pseudocode:\n",
        "- Text here."
      ],
      "metadata": {
        "id": "oVMNVlbHHI3w"
      }
    },
    {
      "cell_type": "code",
      "execution_count": 5,
      "source": [
        "import sys\n",
        "import logging\n",
        "import random\n",
        "from collections import defaultdict\n",
        "from count_syllables import count_syllables\n"
      ],
      "outputs": [
        {
          "output_type": "error",
          "ename": "ModuleNotFoundError",
          "evalue": "ignored",
          "traceback": [
            "\u001b[0;31m---------------------------------------------------------------------------\u001b[0m",
            "\u001b[0;31mModuleNotFoundError\u001b[0m                       Traceback (most recent call last)",
            "\u001b[0;32m<ipython-input-5-835243622dcb>\u001b[0m in \u001b[0;36m<module>\u001b[0;34m()\u001b[0m\n\u001b[1;32m      3\u001b[0m \u001b[0;32mimport\u001b[0m \u001b[0mrandom\u001b[0m\u001b[0;34m\u001b[0m\u001b[0;34m\u001b[0m\u001b[0m\n\u001b[1;32m      4\u001b[0m \u001b[0;32mfrom\u001b[0m \u001b[0mcollections\u001b[0m \u001b[0;32mimport\u001b[0m \u001b[0mdefaultdict\u001b[0m\u001b[0;34m\u001b[0m\u001b[0;34m\u001b[0m\u001b[0m\n\u001b[0;32m----> 5\u001b[0;31m \u001b[0;32mfrom\u001b[0m \u001b[0mcount_syllables\u001b[0m \u001b[0;32mimport\u001b[0m \u001b[0mcount_syllables\u001b[0m\u001b[0;34m\u001b[0m\u001b[0;34m\u001b[0m\u001b[0m\n\u001b[0m",
            "\u001b[0;31mModuleNotFoundError\u001b[0m: No module named 'count_syllables'",
            "",
            "\u001b[0;31m---------------------------------------------------------------------------\u001b[0;32m\nNOTE: If your import is failing due to a missing package, you can\nmanually install dependencies using either !pip or !apt.\n\nTo view examples of installing some common dependencies, click the\n\"Open Examples\" button below.\n\u001b[0;31m---------------------------------------------------------------------------\u001b[0m\n"
          ]
        }
      ],
      "metadata": {
        "id": "9zR4xky8hFc-",
        "outputId": "14b95ac5-e92a-4fc3-ae6e-b1e06471dda6",
        "colab": {
          "base_uri": "https://localhost:8080/",
          "height": 347
        }
      }
    }
  ]
}