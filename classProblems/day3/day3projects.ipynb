{
 "cells": [
  {
   "cell_type": "markdown",
   "source": [
    "<h1>Project #7: Counting Syllables</h1>\n",
    "<p>Python code to count the number of syllables in an English word</p>\n",
    "<a href=\"https://github.com/cmusphinx/cmudict\"><p>Carnegie Melon Pronouncing Dictionary</p></a>"
   ],
   "metadata": {}
  },
  {
   "cell_type": "markdown",
   "source": [
    "- take user input\n",
    "- open syllable count doc\n",
    "- search through dict for each word\n",
    "- count phonetic syllables associated with each word\n",
    "- return count"
   ],
   "metadata": {}
  },
  {
   "cell_type": "markdown",
   "source": [
    "The following code tests a function to count the number of syllables using NLTK and cmudict. This function will be used in a later project."
   ],
   "metadata": {}
  },
  {
   "cell_type": "code",
   "execution_count": 3,
   "source": [
    "import sys\n",
    "from string import punctuation\n",
    "import json\n",
    "import nltk\n",
    "from nltk.corpus import cmudict\n",
    "nltk.download(\"cmudict\")\n",
    "cmudict = cmudict.dict()\n",
    "\n",
    "with open(\"../resources/missing_words.json\") as f:\n",
    "    missing_words = json.load(f)\n",
    "\n",
    "def count_syllables(words):\n",
    "    num_sylls = 0\n",
    "    for word in words.lower().split():\n",
    "        if word in missing_words:\n",
    "            num_sylls += missing_words[word]\n",
    "        elif word in cmudict.keys():\n",
    "            #aachener: [[AA1 K AH0 N ER0]]\n",
    "            for phonemes in cmudict[word][0]:\n",
    "                for phoneme in phonemes:\n",
    "                    if phoneme.isnumeric():\n",
    "                        num_sylls +=1\n",
    "        else:\n",
    "            num_sylls += int(input(\"Sorry! We don't have that word. Enter the number of syllables:\"))\n",
    "    return num_sylls\n",
    "\n",
    "\n",
    "\n",
    "word = input(\"Enter a word to count syllables\")\n",
    "num_syllables = count_syllables(word)\n",
    "print(num_syllables)"
   ],
   "outputs": [
    {
     "output_type": "stream",
     "name": "stderr",
     "text": [
      "[nltk_data] Downloading package cmudict to /Users/eli/nltk_data...\n",
      "[nltk_data]   Package cmudict is already up-to-date!\n"
     ]
    },
    {
     "output_type": "stream",
     "name": "stdout",
     "text": [
      "2\n"
     ]
    }
   ],
   "metadata": {}
  },
  {
   "cell_type": "markdown",
   "source": [
    "<h1>Project #8: Writing Haikus</h1>\n",
    "<p>Use Markov chain analysis to predict the next word in a series based on the current words.</p>\n",
    "<p>This project creates a Markov model based on user input.</p>\n",
    "<p>Markov model order 1: uses single word to find next word.</p>\n",
    "<p>Markov model order 2: uses 2 words to find next word.</p>\n",
    "<p>We have to use markov model order 1 first to then be able to use order 2 with 2 words.</p>\n",
    "<p>Start a sentence with a random word, check syllables, and predict a word using Markov</p>\n",
    "<p>disregard Order 2 Markov Model. Clean up corpus (punctuation). Write a function that generates a line of poetry with Model.</p>"
   ],
   "metadata": {}
  },
  {
   "cell_type": "markdown",
   "source": [
    "- Markov model is built by grabbing a word and making a list with the words that follow it. 2nd order is built in the same manner but with a 2 word phrase instead of a single one"
   ],
   "metadata": {}
  },
  {
   "cell_type": "code",
   "execution_count": 19,
   "source": [
    "import sys\n",
    "import logging\n",
    "import random\n",
    "from collections import defaultdict\n",
    "\n",
    "with open(\"../resources/train.txt\",'r') as f:\n",
    "    raw_haiku = f.read()\n",
    "\n",
    "corpus = raw_haiku.replace(\"\\n\",' ')\n",
    "corpus = corpus.replace(\"!\",\"\")\n",
    "corpus = corpus.replace(\",\",\"\")\n",
    "corpus = corpus.replace(\"?\",\"\")\n",
    "corpus = corpus.split()\n",
    "\n",
    "def map_word_to_word(corpus):\n",
    "    limit = len(corpus) - 1\n",
    "    dict1_to_1 = defaultdict(list)\n",
    "    for index, word in enumerate(corpus):\n",
    "        if index < limit:\n",
    "            suffix = corpus[index+1]\n",
    "            dict1_to_1[word].append(suffix)\n",
    "    \n",
    "    \n",
    "    return dict1_to_1\n",
    "\n",
    "def map2words_to_word(corpus):\n",
    "    limit = len(corpus) - 2\n",
    "    dict2_to_1 = defaultdict(list)\n",
    "    for index, word in enumerate(corpus):\n",
    "        if index < limit:\n",
    "            key = word + \" \" + corpus[index+1]\n",
    "            suffix = corpus[index+2]\n",
    "            dict2_to_1[key].append(suffix)\n",
    "    return dict2_to_1\n",
    "\n",
    "def random_word(corpus):\n",
    "    word = random.choice(corpus)\n",
    "    num_sylls = count_syllables(word)\n",
    "    return word, num_sylls\n",
    "\n",
    "#map_word_to_word(corpus)\n",
    "\n",
    "#map2words_to_word(corpus)\n",
    "\n",
    "#count_syllables(random_word(corpus))\n",
    "\n",
    "def word_after(prefix, suffix_map1, current_sylls, target_sylls):\n",
    "    accepted_words = []\n",
    "    suffixes = suffix_map1.get(prefix)\n",
    "    for candidate in suffixes:\n",
    "        num_sylls = count_syllables(candidate)\n",
    "        if current_sylls + num_sylls <= target_sylls:\n",
    "            accepted_words.append(candidate)\n",
    "    return accepted_words\n",
    "\n",
    "word, num_sylls1 = random_word(corpus)\n",
    "word2, num_sylls2 = random_word(corpus)\n",
    "\n",
    "print(word)\n",
    "print(word2)\n",
    "\n",
    "word_after(word, map_word_to_word(corpus), num_sylls1,5)\n",
    "word_after(word+\" \"+word2, map2words_to_word(corpus),num_sylls1+num_sylls2,5)"
   ],
   "outputs": [
    {
     "output_type": "stream",
     "name": "stdout",
     "text": [
      "blue\n",
      "heavy\n"
     ]
    },
    {
     "output_type": "error",
     "ename": "ValueError",
     "evalue": "invalid literal for int() with base 10: ''",
     "traceback": [
      "\u001b[0;31m---------------------------------------------------------------------------\u001b[0m",
      "\u001b[0;31mValueError\u001b[0m                                Traceback (most recent call last)",
      "Input \u001b[0;32mIn [19]\u001b[0m, in \u001b[0;36m<cell line: 62>\u001b[0;34m()\u001b[0m\n\u001b[1;32m     59\u001b[0m \u001b[38;5;28mprint\u001b[39m(word)\n\u001b[1;32m     60\u001b[0m \u001b[38;5;28mprint\u001b[39m(word2)\n\u001b[0;32m---> 62\u001b[0m \u001b[43mword_after\u001b[49m\u001b[43m(\u001b[49m\u001b[43mword\u001b[49m\u001b[43m,\u001b[49m\u001b[43m \u001b[49m\u001b[43mmap_word_to_word\u001b[49m\u001b[43m(\u001b[49m\u001b[43mcorpus\u001b[49m\u001b[43m)\u001b[49m\u001b[43m,\u001b[49m\u001b[43m \u001b[49m\u001b[43mnum_sylls1\u001b[49m\u001b[43m,\u001b[49m\u001b[38;5;241;43m5\u001b[39;49m\u001b[43m)\u001b[49m\n\u001b[1;32m     63\u001b[0m word_after(word\u001b[38;5;241m+\u001b[39m\u001b[38;5;124m\"\u001b[39m\u001b[38;5;124m \u001b[39m\u001b[38;5;124m\"\u001b[39m\u001b[38;5;241m+\u001b[39mword2, map2words_to_word(corpus),num_sylls1\u001b[38;5;241m+\u001b[39mnum_sylls2,\u001b[38;5;241m5\u001b[39m)\n",
      "Input \u001b[0;32mIn [19]\u001b[0m, in \u001b[0;36mword_after\u001b[0;34m(prefix, suffix_map1, current_sylls, target_sylls)\u001b[0m\n\u001b[1;32m     49\u001b[0m suffixes \u001b[38;5;241m=\u001b[39m suffix_map1\u001b[38;5;241m.\u001b[39mget(prefix)\n\u001b[1;32m     50\u001b[0m \u001b[38;5;28;01mfor\u001b[39;00m candidate \u001b[38;5;129;01min\u001b[39;00m suffixes:\n\u001b[0;32m---> 51\u001b[0m     num_sylls \u001b[38;5;241m=\u001b[39m \u001b[43mcount_syllables\u001b[49m\u001b[43m(\u001b[49m\u001b[43mcandidate\u001b[49m\u001b[43m)\u001b[49m\n\u001b[1;32m     52\u001b[0m     \u001b[38;5;28;01mif\u001b[39;00m current_sylls \u001b[38;5;241m+\u001b[39m num_sylls \u001b[38;5;241m<\u001b[39m\u001b[38;5;241m=\u001b[39m target_sylls:\n\u001b[1;32m     53\u001b[0m         accepted_words\u001b[38;5;241m.\u001b[39mappend(candidate)\n",
      "Input \u001b[0;32mIn [3]\u001b[0m, in \u001b[0;36mcount_syllables\u001b[0;34m(words)\u001b[0m\n\u001b[1;32m     22\u001b[0m                     num_sylls \u001b[38;5;241m+\u001b[39m\u001b[38;5;241m=\u001b[39m\u001b[38;5;241m1\u001b[39m\n\u001b[1;32m     23\u001b[0m     \u001b[38;5;28;01melse\u001b[39;00m:\n\u001b[0;32m---> 24\u001b[0m         num_sylls \u001b[38;5;241m+\u001b[39m\u001b[38;5;241m=\u001b[39m \u001b[38;5;28;43mint\u001b[39;49m\u001b[43m(\u001b[49m\u001b[38;5;28;43minput\u001b[39;49m\u001b[43m(\u001b[49m\u001b[38;5;124;43m\"\u001b[39;49m\u001b[38;5;124;43mSorry! We don\u001b[39;49m\u001b[38;5;124;43m'\u001b[39;49m\u001b[38;5;124;43mt have that word. Enter the number of syllables:\u001b[39;49m\u001b[38;5;124;43m\"\u001b[39;49m\u001b[43m)\u001b[49m\u001b[43m)\u001b[49m\n\u001b[1;32m     25\u001b[0m \u001b[38;5;28;01mreturn\u001b[39;00m num_sylls\n",
      "\u001b[0;31mValueError\u001b[0m: invalid literal for int() with base 10: ''"
     ]
    }
   ],
   "metadata": {}
  }
 ],
 "metadata": {
  "orig_nbformat": 4,
  "language_info": {
   "name": "python",
   "version": "3.9.6",
   "mimetype": "text/x-python",
   "codemirror_mode": {
    "name": "ipython",
    "version": 3
   },
   "pygments_lexer": "ipython3",
   "nbconvert_exporter": "python",
   "file_extension": ".py"
  },
  "kernelspec": {
   "name": "python3",
   "display_name": "Python 3.9.6 64-bit"
  },
  "interpreter": {
   "hash": "aee8b7b246df8f9039afb4144a1f6fd8d2ca17a180786b69acc140d282b71a49"
  }
 },
 "nbformat": 4,
 "nbformat_minor": 2
}