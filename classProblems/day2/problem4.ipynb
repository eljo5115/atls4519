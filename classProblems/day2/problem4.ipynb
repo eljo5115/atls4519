{
 "cells": [
  {
   "cell_type": "markdown",
   "source": [
    "<h1>Anagrams</h1>\n",
    "Finding possible anagrams of a single English word with a dictionary reference"
   ],
   "metadata": {}
  },
  {
   "cell_type": "markdown",
   "source": [
    "create a python dictionary counting each number of letters in the word\n",
    "ex: stop\n",
    "{\n",
    "    \"s\": 1,\n",
    "    \"t\": 1,\n",
    "    \"o\": 1,\n",
    "    \"p\":1\n",
    "}\n",
    "pots\n",
    "{\n",
    "    \"s\":1,\n",
    "    \"t\":1,\n",
    "    \"o\":1,\n",
    "    \"p\":1\n",
    "}\n",
    "dictionaries would compare equal therefore anagram"
   ],
   "metadata": {}
  },
  {
   "cell_type": "markdown",
   "source": [
    "Below is a function to create the dictionaries from an input word with the count for each letter"
   ],
   "metadata": {}
  },
  {
   "cell_type": "code",
   "execution_count": 18,
   "source": [
    "test = \"stoop\"\n",
    "\n",
    "def countLetters(word):\n",
    "    count = {}\n",
    "    for letter in word:\n",
    "        if letter in count:\n",
    "            count[letter] += 1\n",
    "        else:\n",
    "            count[letter] = 1\n",
    "    return count\n",
    "\n",
    "countLetters(test)"
   ],
   "outputs": [
    {
     "output_type": "execute_result",
     "data": {
      "text/plain": [
       "{'s': 1, 't': 1, 'o': 2, 'p': 1}"
      ]
     },
     "metadata": {},
     "execution_count": 18
    }
   ],
   "metadata": {}
  },
  {
   "cell_type": "markdown",
   "source": [
    "<p>Now that we have a function to generate dictionaries, we can iterate through the dictionary and compare each word's dictionary</p>"
   ],
   "metadata": {}
  },
  {
   "cell_type": "code",
   "execution_count": 35,
   "source": [
    "inputWord = \"stop\" #change this to find different anagrams\n",
    "\n",
    "comparison = countLetters(inputWord)\n",
    "\n",
    "bigList = open(\"../resources/2of4brif.txt\")\n",
    "anagrams = []\n",
    "for word in bigList:\n",
    "    word=word.strip()\n",
    "    if countLetters(word)==comparison:\n",
    "        anagrams.append(word)\n",
    "print(anagrams)"
   ],
   "outputs": [
    {
     "output_type": "stream",
     "name": "stdout",
     "text": [
      "['opts', 'post', 'pots', 'spot', 'stop', 'tops']\n"
     ]
    }
   ],
   "metadata": {}
  }
 ],
 "metadata": {
  "orig_nbformat": 4,
  "language_info": {
   "name": "python",
   "version": "3.9.6",
   "mimetype": "text/x-python",
   "codemirror_mode": {
    "name": "ipython",
    "version": 3
   },
   "pygments_lexer": "ipython3",
   "nbconvert_exporter": "python",
   "file_extension": ".py"
  },
  "kernelspec": {
   "name": "python3",
   "display_name": "Python 3.9.6 64-bit"
  },
  "interpreter": {
   "hash": "aee8b7b246df8f9039afb4144a1f6fd8d2ca17a180786b69acc140d282b71a49"
  }
 },
 "nbformat": 4,
 "nbformat_minor": 2
}