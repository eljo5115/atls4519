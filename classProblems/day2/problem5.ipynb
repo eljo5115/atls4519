{
 "cells": [
  {
   "cell_type": "markdown",
   "source": [
    "<h1>Phrase Anagrams</h1>\n",
    "<h4>Finding possible anagrams of multiple english words</h4>"
   ],
   "metadata": {}
  },
  {
   "cell_type": "markdown",
   "source": [
    "create a python dictionary counting each number of letters in the word\n",
    "ex: stop\n",
    "{\n",
    "    \"s\": 1,\n",
    "    \"t\": 1,\n",
    "    \"o\": 1,\n",
    "    \"p\":1\n",
    "}\n",
    "pots\n",
    "{\n",
    "    \"s\":1,\n",
    "    \"t\":1,\n",
    "    \"o\":1,\n",
    "    \"p\":1\n",
    "}\n",
    "dictionaries would compare equal therefore anagram"
   ],
   "metadata": {}
  },
  {
   "cell_type": "markdown",
   "source": [
    "Below is a function to create the dictionaries from an input word with the count for each letter"
   ],
   "metadata": {}
  },
  {
   "cell_type": "code",
   "execution_count": 4,
   "source": [
    "test = \"stoop toot\"\n",
    "\n",
    "def countLetters(word):\n",
    "    count = {}\n",
    "    word = word.strip()\n",
    "    for letter in word:\n",
    "        if letter in count:\n",
    "            count[letter] += 1\n",
    "        else:\n",
    "            count[letter] = 1\n",
    "    return count\n",
    "\n",
    "countLetters(test)"
   ],
   "outputs": [
    {
     "output_type": "execute_result",
     "data": {
      "text/plain": [
       "{'s': 1, 't': 3, 'o': 4, 'p': 1, ' ': 1}"
      ]
     },
     "metadata": {},
     "execution_count": 4
    }
   ],
   "metadata": {}
  },
  {
   "cell_type": "markdown",
   "source": [
    "Now that we have a function to generate dictionaries, we can iterate through the dictionary and compare each word's dictionary"
   ],
   "metadata": {}
  },
  {
   "cell_type": "code",
   "execution_count": 7,
   "source": [
    "inputWord = \"vloe\" #change this to find different anagrams\n",
    "\n",
    "comparison = countLetters(inputWord)\n",
    "\n",
    "def findAnagrams(phrase):\n",
    "    bigList = open(\"../resources/2of4brif.txt\",\"r\")\n",
    "    anagrams = []\n",
    "    for w in bigList:\n",
    "        w=w.strip()\n",
    "        if countLetters(w)==comparison:\n",
    "            anagrams.append(w)\n",
    "    return anagrams\n",
    "#findAnagrams(inputWord)"
   ],
   "outputs": [],
   "metadata": {}
  },
  {
   "cell_type": "markdown",
   "source": [
    "check perms against dictionary of words, save words to a new list\n",
    "2 for loops to cycle through new list and combine to create new phrases and compare to original word anagramically\n",
    "finally list is phrases that are anagramical to the original input phrase"
   ],
   "metadata": {}
  },
  {
   "cell_type": "code",
   "execution_count": 1,
   "source": [
    "from itertools import permutations,combinations\n",
    "bigList = open(\"../resources/2of4brif.txt\",'r')\n",
    "mainWord = \"volde\"\n",
    "perms=[]\n",
    "for j in range(1,len(mainWord)):\n",
    "    permCount = [''.join(i) for i in permutations(mainWord,j)]\n",
    "    perms.extend(permCount)\n",
    "\n",
    "x = []\n",
    "\n",
    "for perm in perms:\n",
    "    perm = list(perm)\n",
    "    \n",
    "    for word in bigList:\n",
    "        word = list(word)\n",
    "print(x)"
   ],
   "outputs": [
    {
     "output_type": "error",
     "ename": "KeyboardInterrupt",
     "evalue": "",
     "traceback": [
      "\u001b[0;31m---------------------------------------------------------------------------\u001b[0m",
      "\u001b[0;31mKeyboardInterrupt\u001b[0m                         Traceback (most recent call last)",
      "Input \u001b[0;32mIn [1]\u001b[0m, in \u001b[0;36m<cell line: 5>\u001b[0;34m()\u001b[0m\n\u001b[1;32m      4\u001b[0m perms\u001b[38;5;241m=\u001b[39m[]\n\u001b[1;32m      5\u001b[0m \u001b[38;5;28;01mfor\u001b[39;00m j \u001b[38;5;129;01min\u001b[39;00m \u001b[38;5;28mrange\u001b[39m(\u001b[38;5;241m1\u001b[39m,\u001b[38;5;28mlen\u001b[39m(mainWord)):\n\u001b[0;32m----> 6\u001b[0m     permCount \u001b[38;5;241m=\u001b[39m [\u001b[38;5;124m'\u001b[39m\u001b[38;5;124m'\u001b[39m\u001b[38;5;241m.\u001b[39mjoin(i) \u001b[38;5;28;01mfor\u001b[39;00m i \u001b[38;5;129;01min\u001b[39;00m permutations(mainWord,j)]\n\u001b[1;32m      7\u001b[0m     perms\u001b[38;5;241m.\u001b[39mextend(permCount)\n\u001b[1;32m      9\u001b[0m x \u001b[38;5;241m=\u001b[39m []\n",
      "Input \u001b[0;32mIn [1]\u001b[0m, in \u001b[0;36m<listcomp>\u001b[0;34m(.0)\u001b[0m\n\u001b[1;32m      4\u001b[0m perms\u001b[38;5;241m=\u001b[39m[]\n\u001b[1;32m      5\u001b[0m \u001b[38;5;28;01mfor\u001b[39;00m j \u001b[38;5;129;01min\u001b[39;00m \u001b[38;5;28mrange\u001b[39m(\u001b[38;5;241m1\u001b[39m,\u001b[38;5;28mlen\u001b[39m(mainWord)):\n\u001b[0;32m----> 6\u001b[0m     permCount \u001b[38;5;241m=\u001b[39m [\u001b[38;5;124;43m'\u001b[39;49m\u001b[38;5;124;43m'\u001b[39;49m\u001b[38;5;241;43m.\u001b[39;49m\u001b[43mjoin\u001b[49m\u001b[43m(\u001b[49m\u001b[43mi\u001b[49m\u001b[43m)\u001b[49m \u001b[38;5;28;01mfor\u001b[39;00m i \u001b[38;5;129;01min\u001b[39;00m permutations(mainWord,j)]\n\u001b[1;32m      7\u001b[0m     perms\u001b[38;5;241m.\u001b[39mextend(permCount)\n\u001b[1;32m      9\u001b[0m x \u001b[38;5;241m=\u001b[39m []\n",
      "\u001b[0;31mKeyboardInterrupt\u001b[0m: "
     ]
    }
   ],
   "metadata": {}
  },
  {
   "cell_type": "markdown",
   "source": [
    "- code to find phrase anagrams from the input\n",
    "- creates all possible combinations of the input\n",
    "- searches for anagrams\n",
    "- combines words to make phrases\n",
    "- checks for anagramity of original input\n",
    "- returns possible anagrams\n"
   ],
   "metadata": {}
  },
  {
   "cell_type": "code",
   "execution_count": 9,
   "source": [
    "from itertools import combinations\n",
    "with open(\"../resources/2of4brif.txt\",\"r\") as f:\n",
    "    bigList = f.read()\n",
    "\n",
    "mainWord = \"stop please\"\n",
    "perms = []\n",
    "for j in range(1,len(mainWord)+1):\n",
    "    permCount = [''.join(i) for i in combinations(mainWord,j)]\n",
    "    perms.extend(permCount)\n",
    "\n",
    "for item in perms:\n",
    "    anagrams = findAnagrams(item)\n",
    "print(anagrams)\n"
   ],
   "outputs": [
    {
     "output_type": "stream",
     "name": "stdout",
     "text": [
      "['love', 'vole']\n"
     ]
    }
   ],
   "metadata": {}
  }
 ],
 "metadata": {
  "orig_nbformat": 4,
  "language_info": {
   "name": "python",
   "version": "3.9.6",
   "mimetype": "text/x-python",
   "codemirror_mode": {
    "name": "ipython",
    "version": 3
   },
   "pygments_lexer": "ipython3",
   "nbconvert_exporter": "python",
   "file_extension": ".py"
  },
  "kernelspec": {
   "name": "python3",
   "display_name": "Python 3.9.6 64-bit"
  },
  "interpreter": {
   "hash": "aee8b7b246df8f9039afb4144a1f6fd8d2ca17a180786b69acc140d282b71a49"
  }
 },
 "nbformat": 4,
 "nbformat_minor": 2
}