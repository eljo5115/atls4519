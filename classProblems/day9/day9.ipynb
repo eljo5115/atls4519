{
 "cells": [
  {
   "cell_type": "markdown",
   "source": [
    "<h1>Day 9 Problems</h1>\n",
    "<h2>Project 28: Photoshoot</h2>\n",
    "<a href=\"http://www.usaco.org/index.php?page=viewproblem2&cpid=1227\">Problem Statement Here</a>\n",
    "<p>Put G cows on even positions and H's on odd positions. Prefixes must be even. </p> \n",
    "<h3>Solution via Benjamin Qi</h3>\n",
    "\n",
    "- turn GH into A\n",
    "- turn HG into B\n",
    "- GG or HH turns into a .\n",
    "- since we know that . are symmetrical they will never switch so we can ignore them\n",
    "- now we can condense all occurrences of a character (A, B) into a single one, ex. AAABB becomes AB\n",
    "- now we can drop the last character of the string if it's a B since the G is already in an even place"
   ],
   "metadata": {}
  },
  {
   "cell_type": "code",
   "execution_count": 1,
   "source": [
    "s = \"HHGHGHHGGH\"\n",
    "\n",
    "lst = '.'\n",
    "ans = 0\n",
    "\n",
    "for i in range(0,len(s),2):\n",
    "\tif s[i] != s[i+1]: #ignores two letters next to each other\n",
    "\t\tif s[i] != lst: #checks the next two letters for difference, ignores similars\n",
    "\t\t\tans += 1\n",
    "\t\t\tlst = s[i]\n",
    " \n",
    "if lst == 'H':\n",
    "\tans -= 1\n",
    "\n",
    "print(ans)"
   ],
   "outputs": [
    {
     "output_type": "stream",
     "name": "stdout",
     "text": [
      "3\n"
     ]
    }
   ],
   "metadata": {}
  },
  {
   "cell_type": "markdown",
   "source": [
    "<h2>Project #29: Ribbons</h2>\n",
    "<a href = \"https://dmoj.ca/problem/dmopc17c4p1\">Problem here</a>\n",
    "<p>The scarf starts as blue. The input is 2 integers, the first one being the start from the left end and the second one being the ending distance.</p>\n",
    "\n",
    "- create a ribbon that is default color purple\n",
    "- iterate through the input and change the colors to blue for each input pair\n",
    "- create a list of booleans to store as the default purple and change to True to represent becoming painted blue"
   ],
   "metadata": {}
  },
  {
   "cell_type": "code",
   "execution_count": 24,
   "source": [
    "paintStrokes = [[0,2],[1,2],[3,4]]\n",
    "\n",
    "def calculateArea(paint:list,ribbonLength):\n",
    "    ribbon = [False] * ribbonLength\n",
    "    purpleCount = 0\n",
    "    blueCount = 0\n",
    "    for i in paint:\n",
    "        strokes = list(range(i[0],i[1]))\n",
    "        for s in strokes:\n",
    "            ribbon[s] = True\n",
    "    purpleCount = ribbon.count(False)\n",
    "    blueCount = ribbon.count(True)\n",
    "    return purpleCount, blueCount\n",
    "\n",
    "calculateArea(paintStrokes,4)"
   ],
   "outputs": [
    {
     "output_type": "execute_result",
     "data": {
      "text/plain": [
       "(1, 3)"
      ]
     },
     "metadata": {},
     "execution_count": 24
    }
   ],
   "metadata": {}
  },
  {
   "cell_type": "markdown",
   "source": [
    "<h2>Project #30: COW Operations</h2>\n",
    "<p>A string only containing the letters C,O,W. Only two operations available.\n",
    "\n",
    "- two adjacent equal letters and delete them\n",
    "- one letter and replace it with the other 2 letters in any order\n",
    "\n",
    "The goal is to convert the entire string into a single letter \"C\"\n",
    "</p>\n",
    "\n",
    "- slice string into all substrings and store in a list\n",
    "- iterate through the list and count the number of occurences\n",
    "- calculate sums of each letters\n",
    "- if C+O or C+W is even, the string can never be reduced to a single C\n",
    "- if O+W is even then the O's and W's can always be completely removed\n",
    "- if C+O is odd then it is always possible to always have a single C\n"
   ],
   "metadata": {}
  },
  {
   "cell_type": "code",
   "execution_count": 11,
   "source": [
    "example = \"COWCCWO\"\n",
    "\n",
    "def cowReduction(phrase):\n",
    "    substrings = []\n",
    "    output = []\n",
    "    okActuallyTheOutputNow = \"\"\n",
    "    for i in range(len(phrase)):\n",
    "        substrings.append(phrase[:i])\n",
    "    for sub in substrings:\n",
    "        C = 0\n",
    "        O = 0\n",
    "        W = 0\n",
    "        for i in sub:\n",
    "            if i == \"C\":\n",
    "                C+=1\n",
    "            if i == \"O\":\n",
    "                O+=1\n",
    "            if i == \"W\":\n",
    "                W+=1\n",
    "        if ((C+O)%2 == 0 or (C+W)%2 == 0) or (O + W)%2 !=0 : #cannot be compressed to single C\n",
    "            output.append(False)\n",
    "        elif (O + W)%2 == 0 and ((C + O)%2 != 0 or (C+W)%2 != 0):\n",
    "            output.append(True)\n",
    "    for i in output:\n",
    "        if i:\n",
    "            okActuallyTheOutputNow += \"Y\"\n",
    "        else:\n",
    "            okActuallyTheOutputNow += \"N\"\n",
    "    return okActuallyTheOutputNow\n",
    "\n",
    "cowReduction(example)"
   ],
   "outputs": [
    {
     "output_type": "execute_result",
     "data": {
      "text/plain": [
       "'NYNNYNN'"
      ]
     },
     "metadata": {},
     "execution_count": 11
    }
   ],
   "metadata": {}
  }
 ],
 "metadata": {
  "orig_nbformat": 4,
  "language_info": {
   "name": "python",
   "version": "3.9.6",
   "mimetype": "text/x-python",
   "codemirror_mode": {
    "name": "ipython",
    "version": 3
   },
   "pygments_lexer": "ipython3",
   "nbconvert_exporter": "python",
   "file_extension": ".py"
  },
  "kernelspec": {
   "name": "python3",
   "display_name": "Python 3.9.6 64-bit"
  },
  "interpreter": {
   "hash": "aee8b7b246df8f9039afb4144a1f6fd8d2ca17a180786b69acc140d282b71a49"
  }
 },
 "nbformat": 4,
 "nbformat_minor": 2
}