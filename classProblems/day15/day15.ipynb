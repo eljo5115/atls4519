{
 "cells": [
  {
   "cell_type": "markdown",
   "source": [
    "<h1>Day 15 Problems</h1>\n",
    "<h2>Project #39b: Revegetation Silver</h2>\n",
    "<a href = \"http://www.usaco.org/index.php?page=viewproblem2&cpid=920\">Problem here</a>\n",
    "\n",
    "- graph pastures\n",
    "- lines between nodes denotes that a cow prefers the two fields\n",
    "- s means the cow needs the same grass in both fields\n",
    "- d means the cow needs different grass in both fields\n",
    "- if two nodes are connected via S, the fields must have the same grass type (0)\n",
    "- if two nodes are connected via D, the fields must have different grass types (0,1)\n",
    "- node class?\n",
    "    - stores connections and connection types"
   ],
   "metadata": {}
  },
  {
   "cell_type": "code",
   "execution_count": 1,
   "source": [
    "from collections import defaultdict\n",
    "\n",
    "class Node:\n",
    "    def __init__(self,grassType:int):\n",
    "        self.grassType = grassType\n",
    "        self.connections = defaultdict(str)\n",
    "    def addConnection(self,node,conType:str):\n",
    "        self.connections[node]+=conType\n",
    "class Graph:\n",
    "    def __init__(self,numPastures):\n",
    "        self.numPastures = numPastures\n",
    "        self.pastures = [Node(0)]*numPastures"
   ],
   "outputs": [],
   "metadata": {}
  },
  {
   "cell_type": "markdown",
   "source": [
    "<h2>Project #40: Barn Painting Silver</h2>\n",
    "<a href = \"http://www.usaco.org/index.php?page=viewproblem2&cpid=919\">Problem here</a>\n"
   ],
   "metadata": {}
  },
  {
   "cell_type": "code",
   "execution_count": 36,
   "source": [
    "with open(\"../resources/paintbarn_silver_feb19/1.in\") as f: #don't try any other input files, strings are funky\n",
    "    fileInput = f.readlines()\n",
    "cleanFile = []\n",
    "for line in fileInput:\n",
    "    fileLine = []\n",
    "    for i in line.strip():\n",
    "        if i != \" \":\n",
    "            fileLine.append(int(i))\n",
    "    cleanFile.append(fileLine)\n",
    "\n",
    "print(cleanFile)\n",
    "\n",
    "search = int(cleanFile[0][1])\n",
    "\n",
    "totalArea = 0\n",
    "rectangles = []\n",
    "for line in fileInput[1:]:\n",
    "    line.strip()\n",
    "    rect = [(int(line[0]),int(line[2])),(int(line[4]),int(line[6]))]\n",
    "    rectangles.append(rect)\n",
    "\n",
    "wall = []\n",
    "max_x = 0\n",
    "max_y = 0\n",
    "\n",
    "for rect in rectangles:\n",
    "    if rect[0][0]>max_x or rect[1][0] > max_x:\n",
    "        max_x = max(rect[0][0],rect[1][0])\n",
    "    if rect[0][1]>max_y or rect[1][1] > max_y:\n",
    "        max_y = max(rect[0][1],rect[1][1])\n",
    "\n",
    "for i in range(0,max_x):\n",
    "    wall.append([0]*max_y)\n",
    "\n",
    "\n",
    "for rect in rectangles:\n",
    "    x1 = rect[0][0]\n",
    "    x2 = rect[1][0]\n",
    "    y1 = rect[0][1]\n",
    "    y2 = rect[1][1]\n",
    "\n",
    "    for i in range(x1,x2):\n",
    "        for j in range(y1,y2):\n",
    "            wall[i][j] += 1\n",
    "\n",
    "for i in range(len(wall)):\n",
    "    for j in range(len(wall[i])):\n",
    "        if wall[i][j] == search:\n",
    "            totalArea += 1\n",
    "\n",
    "\n",
    "print(totalArea)"
   ],
   "outputs": [
    {
     "output_type": "stream",
     "name": "stdout",
     "text": [
      "[[3, 2], [1, 1, 5, 5], [4, 4, 7, 6], [3, 3, 8, 7]]\n",
      "8\n"
     ]
    }
   ],
   "metadata": {}
  },
  {
   "cell_type": "markdown",
   "source": [
    "<h2> Project #40b: Barn Painting Gold</h2>\n",
    "<a href = \"http://www.usaco.org/index.php?page=viewproblem2&cpid=923\">Problem here</a>\n"
   ],
   "metadata": {}
  },
  {
   "cell_type": "code",
   "execution_count": 37,
   "source": [
    "rectangles = [\n",
    "    [(1,1),(4,4)],\n",
    "    [(3,3),(7,6)],\n",
    "    [(2,2),(8,7)]\n",
    "]\n",
    "search = 2\n",
    "wall = []\n",
    "max_x = 0\n",
    "max_y = 0\n",
    "\n",
    "for rect in rectangles:\n",
    "    if rect[0][0]>max_x or rect[1][0] > max_x:\n",
    "        max_x = max(rect[0][0],rect[1][0])\n",
    "    if rect[0][1]>max_y or rect[1][1] > max_y:\n",
    "        max_y = max(rect[0][1],rect[1][1])\n",
    "\n",
    "for i in range(0,max_x):\n",
    "    wall.append([0]*max_y)\n",
    "\n",
    "\n",
    "for rect in rectangles:\n",
    "    x1 = rect[0][0]\n",
    "    x2 = rect[1][0]\n",
    "    y1 = rect[0][1]\n",
    "    y2 = rect[1][1]\n",
    "\n",
    "    for i in range(x1,x2):\n",
    "        for j in range(y1,y2):\n",
    "            wall[i][j] += 1\n",
    "\n",
    "for i in range(len(wall)):\n",
    "    for j in range(len(wall[i])):\n",
    "        if wall[i][j] == search:\n",
    "            totalArea -= 1\n",
    "        elif wall[i][j]==search-1:\n",
    "            totalArea +=1\n",
    "\n",
    "\n",
    "print(totalArea)"
   ],
   "outputs": [
    {
     "output_type": "stream",
     "name": "stdout",
     "text": [
      "14\n"
     ]
    }
   ],
   "metadata": {}
  }
 ],
 "metadata": {
  "orig_nbformat": 4,
  "language_info": {
   "name": "python",
   "version": "3.9.6",
   "mimetype": "text/x-python",
   "codemirror_mode": {
    "name": "ipython",
    "version": 3
   },
   "pygments_lexer": "ipython3",
   "nbconvert_exporter": "python",
   "file_extension": ".py"
  },
  "kernelspec": {
   "name": "python3",
   "display_name": "Python 3.9.6 64-bit"
  },
  "interpreter": {
   "hash": "aee8b7b246df8f9039afb4144a1f6fd8d2ca17a180786b69acc140d282b71a49"
  }
 },
 "nbformat": 4,
 "nbformat_minor": 2
}