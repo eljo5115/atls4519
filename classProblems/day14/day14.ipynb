{
 "cells": [
  {
   "cell_type": "markdown",
   "source": [
    "<h1>Day 14 Projects</h1>\n",
    "<h2>Project #38: Sleepy Cow Herding Silver</h2>\n",
    "<a href = \"http://www.usaco.org/index.php?page=viewproblem2&cpid=918\">Problem here</a>\n",
    "<p>Farmer John's cows are wandering around his linear farm. However the cows are quite sleepy, and he can only push them if they are at an endpoint and they can end up at an unoccupied space. Determine the minimum and maximum number of moves possible before the cows become grouped in consecutive locations.</p>\n",
    "\n",
    "- find cows at endpoints\n",
    "- calculate maximum concentration of cows\n",
    "- find possible moves (all moves will increase concentration)\n",
    "- from possible moves, determine which ones increase the concentration the most and the least\n",
    "- minimum number of moves\n",
    "    - if there is a section denser than 1/n, the moves are the distance -1\n",
    "    - if not the moves are n-1"
   ],
   "metadata": {}
  },
  {
   "cell_type": "code",
   "execution_count": 1,
   "source": [
    "farm = [1,5,7,10,15]\n",
    "\n",
    "def solveMin(farm):\n",
    "    if farm[-2]-farm[0] == len(farm)-2 and farm[-1]-farm[-2]>2:\n",
    "        return 2\n",
    "    if farm[-1]-farm[1] == len(farm) - 2 and farm[1]-farm[0]>2:\n",
    "        return 2\n",
    "    j=0;best = 0\n",
    "    for i in range(len(farm)):\n",
    "        while(j<len(farm)-1 and farm[j+1]-farm[i]<=len(farm)-1):\n",
    "            j+=1\n",
    "            best = max(best,j-i+1)\n",
    "    return len(farm)-best\n",
    "\n",
    "maximum = max(farm[-2]-farm[0],farm[-1]-farm[1])-(len(farm)-2)\n",
    "\n",
    "print(\"The minimum number of moves is \" + str(solveMin(farm)))\n",
    "print(\"The maximum number of moves is \" + str(maximum))"
   ],
   "outputs": [
    {
     "output_type": "stream",
     "name": "stdout",
     "text": [
      "The minimum number of moves is 3\n",
      "The maximum number of moves is 7\n"
     ]
    }
   ],
   "metadata": {}
  },
  {
   "cell_type": "markdown",
   "source": [
    "<p>The bronze level problem only requires solving cases with 3 cows</p>"
   ],
   "metadata": {}
  },
  {
   "cell_type": "code",
   "execution_count": 10,
   "source": [
    "farm = [4,7,8]\n",
    "\n",
    "smallestDensity = 100000\n",
    "largestDensity = 0\n",
    "\n",
    "farm = sorted(farm)\n",
    "\n",
    "if farm[2] == farm[0]+2:\n",
    "    minimum = 0\n",
    "elif farm[1] ==  farm[0]+2 or farm[2] == farm[1]+2:\n",
    "    minimum = 1\n",
    "else:\n",
    "    minimum = 2\n",
    "\n",
    "maximum = max(farm[2]-farm[1],farm[1]-farm[0])-1\n",
    "\n",
    "print(\"The smallest number of moves is \"+str(minimum))\n",
    "print(\"The largest number of moves is \"+str(maximum))"
   ],
   "outputs": [
    {
     "output_type": "stream",
     "name": "stdout",
     "text": [
      "The smallest number of moves is 2\n",
      "The largest number of moves is 2\n"
     ]
    }
   ],
   "metadata": {}
  },
  {
   "cell_type": "markdown",
   "source": [
    "<h2>Project #39a: Revegetation</h2>\n",
    "<a href = \"http://www.usaco.org/index.php?page=viewproblem2&cpid=916\">Problem here</a>\n",
    "\n",
    "<p>Some cows have a preference of the grass in the pasture and Farmer John is replanting the fields. "
   ],
   "metadata": {}
  },
  {
   "cell_type": "code",
   "execution_count": 9,
   "source": [
    "N = 5 #pastures\n",
    "M = 6 #cows\n",
    "\n",
    "cows = [[4,1],[4,2],[4,3],[2,5],[1,2],[1,5]]\n",
    "pastures = [1]*N\n",
    "\n",
    "for c in range(len(cows)):\n",
    "    cows[c] = sorted(cows[c])\n",
    "\n",
    "for cow in cows:\n",
    "    if cow[0] == 1:\n",
    "        pastures[cow[1]-1] = 2\n",
    "\n",
    "for cow in cows:\n",
    "    if pastures[cow[0]-1] == pastures[cow[1]-1]:\n",
    "        pastures[cow[1]-1]+=1\n",
    "print(pastures)"
   ],
   "outputs": [
    {
     "output_type": "stream",
     "name": "stdout",
     "text": [
      "[1, 2, 1, 3, 3]\n"
     ]
    }
   ],
   "metadata": {}
  }
 ],
 "metadata": {
  "orig_nbformat": 4,
  "language_info": {
   "name": "python",
   "version": "3.9.6",
   "mimetype": "text/x-python",
   "codemirror_mode": {
    "name": "ipython",
    "version": 3
   },
   "pygments_lexer": "ipython3",
   "nbconvert_exporter": "python",
   "file_extension": ".py"
  },
  "kernelspec": {
   "name": "python3",
   "display_name": "Python 3.9.6 64-bit"
  },
  "interpreter": {
   "hash": "aee8b7b246df8f9039afb4144a1f6fd8d2ca17a180786b69acc140d282b71a49"
  }
 },
 "nbformat": 4,
 "nbformat_minor": 2
}