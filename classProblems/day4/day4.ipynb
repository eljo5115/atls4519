{
 "cells": [
  {
   "cell_type": "markdown",
   "source": [
    "<h1>Day 4 Projects</h1>\n",
    "<h2>Project #10: Reverse Cypher Encrypting </h2>\n",
    "<p>Encrypt a string with a reverse cypher. Python's robuts string slicing syntax has a way to directly reverse a string using [::-1].</p>"
   ],
   "metadata": {}
  },
  {
   "cell_type": "code",
   "execution_count": 11,
   "source": [
    "import time\n",
    "\n",
    "wordToEncrypt = \"This is a secret message.\"#change this string\n",
    "\n",
    "def reverseCypher(string):\n",
    "    return string[::-1]\n",
    "start =time.time()\n",
    "reverseCypher(wordToEncrypt)\n",
    "end = time.time()\n",
    "\n",
    "print(end - start)\n",
    "print(reverseCypher(wordToEncrypt))"
   ],
   "outputs": [
    {
     "output_type": "stream",
     "name": "stdout",
     "text": [
      "5.602836608886719e-05\n",
      ".egassem terces a si sihT\n"
     ]
    }
   ],
   "metadata": {}
  },
  {
   "cell_type": "markdown",
   "source": [
    "<p>Below is a function with the same functionality as the one above but with a for loop implementation for timing purposes.</p>"
   ],
   "metadata": {}
  },
  {
   "cell_type": "code",
   "execution_count": 7,
   "source": [
    "wordToEncrypt = '.egassem terces a si sihT'\n",
    "\n",
    "def forReverseCypher(string):\n",
    "    newString = \"\"\n",
    "    start = time.time()\n",
    "    for i in range(len(string)):\n",
    "        newString += string[-i-1]\n",
    "    end = time.time()\n",
    "    print(end - start)\n",
    "    return newString\n",
    "\n",
    "forReverseCypher(wordToEncrypt)"
   ],
   "outputs": [
    {
     "output_type": "stream",
     "name": "stdout",
     "text": [
      "5.9604644775390625e-06\n"
     ]
    },
    {
     "output_type": "execute_result",
     "data": {
      "text/plain": [
       "'This is a secret message.'"
      ]
     },
     "metadata": {},
     "execution_count": 7
    }
   ],
   "metadata": {}
  },
  {
   "cell_type": "markdown",
   "source": [
    "<h2>Project #11: Caesar Cypher Encryption</h2>\n",
    "<p>A Caesar cypher is an encryption sequence that shifts the letters of the string by a certain number of places in the alphabet. So 'apple' would become 'bqqmf' if shifted just one letter. "
   ],
   "metadata": {}
  },
  {
   "cell_type": "markdown",
   "source": [
    "- take input from user\n",
    "- list of letters to index (alphabet)\n",
    "- for loop iterating through the string\n",
    "- check"
   ],
   "metadata": {}
  },
  {
   "cell_type": "code",
   "execution_count": 25,
   "source": [
    "import time\n",
    "stringToEncrypt = \"DINGUS behingus\"\n",
    "\n",
    "def caesarCypher(string, key):\n",
    "    letters = ['a','b','c','d','e','f','g','h','i','j','k','l','m','n','o','p','q','r','s','t','u','v','w','x','y','z']\n",
    "    string = string.lower()\n",
    "    newString = \"\"\n",
    "    for i in range(len(string)):\n",
    "        if string[i] in letters:\n",
    "            letterIndex = letters.index(string[i]) + key\n",
    "            if letterIndex > len(letters)-1:\n",
    "                letterIndex = letterIndex - len(letters)\n",
    "            newString += letters[letterIndex]\n",
    "        else:\n",
    "            newString += string[i]\n",
    "        \n",
    "    return newString\n",
    "\n",
    "caesarCypher(stringToEncrypt, -5)"
   ],
   "outputs": [
    {
     "output_type": "execute_result",
     "data": {
      "text/plain": [
       "'ydibpn wzcdibpn'"
      ]
     },
     "metadata": {},
     "execution_count": 25
    }
   ],
   "metadata": {}
  },
  {
   "cell_type": "markdown",
   "source": [
    "<h2>Project #12: Choosing Between Encryption Methods </h2>\n",
    "<p>I am writing a function that will allow a choice between a reverse cypher or a Caesar cypher.</p>\n",
    "\n",
    "- adding another argument to choose which cypher is being used\n",
    "- if statement checking for cypher choice\n",
    "- call previous functions and return output\n",
    "<p>The beauty of these 2 cyphers is the decypherability of them. The same functions used to 'encrypt' the message can also be used to decrypt them.</p>"
   ],
   "metadata": {}
  },
  {
   "cell_type": "code",
   "execution_count": 26,
   "source": [
    "phraseToEncrypt = \"haha doody balls\"\n",
    "\n",
    "def choiceCypher(phrase, cypher, key=\"0\"):\n",
    "    if cypher == \"reverse\":\n",
    "        return phrase[::-1]\n",
    "    elif cypher == \"caesar\":\n",
    "        return caesarCypher(phrase, key)\n",
    "    else:\n",
    "        return \"Please enter a valid cypher.\"\n",
    "\n",
    "choiceCypher(phraseToEncrypt,\"caesar\", 8)"
   ],
   "outputs": [
    {
     "output_type": "execute_result",
     "data": {
      "text/plain": [
       "'pipi lwwlg jitta'"
      ]
     },
     "metadata": {},
     "execution_count": 26
    }
   ],
   "metadata": {}
  },
  {
   "cell_type": "markdown",
   "source": [
    "<p>So why not a function that reverses the message before applying the Caesar cypher, in the name of <i>security.</i></p>"
   ],
   "metadata": {}
  },
  {
   "cell_type": "code",
   "execution_count": 35,
   "source": [
    "messageToEncrypt = \"this is a secret message\"\n",
    "\n",
    "def doubleCypher(phrase, key):\n",
    "    phrase = phrase [::-1]\n",
    "    phrase = caesarCypher(phrase, key)\n",
    "    return phrase\n",
    "\n",
    "doubleCypher(messageToEncrypt, 16)"
   ],
   "outputs": [
    {
     "output_type": "execute_result",
     "data": {
      "text/plain": [
       "'uwqiiuc juhsui q iy iyxj'"
      ]
     },
     "metadata": {},
     "execution_count": 35
    }
   ],
   "metadata": {}
  },
  {
   "cell_type": "markdown",
   "source": [
    "<p>And now an interactive cell to encrypt or decrypt usign either of the previous cyphers.</p>"
   ],
   "metadata": {}
  },
  {
   "cell_type": "code",
   "execution_count": 30,
   "source": [
    "running = True\n",
    "\n",
    "while running:\n",
    "    cypher = input(\"Which cypher would you like to use, Caesar or Reverse?\")\n",
    "    phrase = input(\"Enter a message to encrypt/decrypt:\")\n",
    "    cypher = cypher.lower()\n",
    "    if cypher == \"caesar\":\n",
    "        key = int(input(\"Enter the key for the Caesar cypher:\"))\n",
    "        print(choiceCypher(phrase,cypher,key))\n",
    "        running = False\n",
    "    elif cypher == \"reverse\":\n",
    "        print(choiceCypher(phrase,cypher))\n",
    "        running = False\n",
    "    else:\n",
    "        print(\"Please enter a valid cypher\")"
   ],
   "outputs": [
    {
     "output_type": "stream",
     "name": "stdout",
     "text": [
      "m lezi e fmk hmgo\n"
     ]
    }
   ],
   "metadata": {}
  }
 ],
 "metadata": {
  "orig_nbformat": 4,
  "language_info": {
   "name": "python",
   "version": "3.9.6",
   "mimetype": "text/x-python",
   "codemirror_mode": {
    "name": "ipython",
    "version": 3
   },
   "pygments_lexer": "ipython3",
   "nbconvert_exporter": "python",
   "file_extension": ".py"
  },
  "kernelspec": {
   "name": "python3",
   "display_name": "Python 3.9.6 64-bit"
  },
  "interpreter": {
   "hash": "aee8b7b246df8f9039afb4144a1f6fd8d2ca17a180786b69acc140d282b71a49"
  }
 },
 "nbformat": 4,
 "nbformat_minor": 2
}