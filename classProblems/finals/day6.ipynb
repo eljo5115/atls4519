{
 "cells": [
  {
   "cell_type": "markdown",
   "source": [
    "<h1>Day 6 Projects</h1>\n",
    "<h2>Project #17: Brute Force Transposition Cypher</h2>\n",
    "<p>Decodes some message encrypted with the transposition cypher. Using the decryption function that we made yesterday for the transposition cypher we can force out the answer by testing all possible decryptions with a for loop running from 1 to the length of the message.</p>"
   ],
   "metadata": {}
  },
  {
   "cell_type": "code",
   "execution_count": 3,
   "source": [
    "import math\n",
    "\n",
    "phrase = 'timghseei s.sas  a'\n",
    "\n",
    "def transpositionDecypher(phrase, key):\n",
    "    i = 0\n",
    "    numColumns = math.ceil(len(phrase)/(key))\n",
    "    numRows = key\n",
    "    shadedBoxes = numColumns*numRows - len(phrase)\n",
    "    newPhrase = [\"\"] * numColumns\n",
    "    column = 0\n",
    "    row = 0\n",
    "\n",
    "    for symbol in phrase:\n",
    "        newPhrase[column] += symbol\n",
    "        column += 1\n",
    "        if (column == numColumns) or (column == numColumns -1 and row >= numRows - shadedBoxes):\n",
    "            column = 0\n",
    "            row += 1\n",
    "\n",
    "    output = ''\n",
    "    for part in newPhrase:\n",
    "        output += part\n",
    "    return output\n",
    "\n",
    "def transpositionBruteForce(message):\n",
    "    for i in range(1, len(message)):\n",
    "        print(transpositionDecypher(message,i), i)\n",
    "\n",
    "transpositionBruteForce(phrase)"
   ],
   "outputs": [
    {
     "output_type": "stream",
     "name": "stdout",
     "text": [
      "timghseei s.sas  a 1\n",
      "t ism.gshasse e ia 2\n",
      "tesieamisg  hs s.a 3\n",
      "tsssie. mes giaah  4\n",
      "this is a message. 5\n",
      "tge s ihesa msi.sa 6\n",
      "tge ss ihesa amsi. 7\n",
      "tgeisss ihe .a ams 8\n",
      "tmheisss igse .a a 9\n",
      "tmheisss aigse .a  10\n",
      "tmheisss  aigse .a 11\n",
      "tmheissas  aigse . 12\n",
      "tmheis.sas  aigse  13\n",
      "tmhei s.sas  aigse 14\n",
      "tmheei s.sas  aigs 15\n",
      "tmhseei s.sas  aig 16\n",
      "tmghseei s.sas  ai 17\n"
     ]
    }
   ],
   "metadata": {}
  },
  {
   "cell_type": "markdown",
   "source": [
    "<h2>Project #18: Affine Cypher</h2>\n",
    "<p>The affine cypher is similar to the Caesar cypher but first transforms the letter by a multiplication. The mathematical function for encrypting using the affine cypher is (ax+b)%m where a is key1, b is key2 and m is the length of the alphabet.</p>\n",
    "<p>To find the inverse modulo of a number, Python 3.8+ has a built in pow function with specific arguments to calculate the inverse modulo of a number. Read more about this <a href = \"https://stackoverflow.com/questions/4798654/modular-multiplicative-inverse-function-in-python\">here.</a></p>"
   ],
   "metadata": {}
  },
  {
   "cell_type": "code",
   "execution_count": 43,
   "source": [
    "import math\n",
    "\n",
    "def affineCypher(phrase, a, b, decrypt=False):\n",
    "    letters = \"abcdefghijklmnopqrstuvwxyzABCDEFGHIJKLMNOPQRSTUVWXYZ .,!?-/$%\"\n",
    "    output = \"\"\n",
    "    while math.gcd(len(letters),a) !=1:\n",
    "        input(\"Enter a new key (must be coprime to 61):\")\n",
    "    if decrypt:\n",
    "        a = pow(a,-1,len(letters)) #modulo inverse of a \n",
    "        for letter in phrase:\n",
    "            if letter in letters:\n",
    "                index = letters.index(letter)\n",
    "                newIndex = a*(index-b)%len(letters)\n",
    "                output += letters[newIndex]\n",
    "            else:\n",
    "                output += letter\n",
    "        return output\n",
    "    \n",
    "    for letter in phrase:\n",
    "        if letter in letters:\n",
    "            index = letters.index(letter)\n",
    "            newIndex = (a*index + b)%len(letters)\n",
    "            output += letters[newIndex]\n",
    "        else:\n",
    "            output += letter\n",
    "    return output\n",
    "\n",
    "encryptedMessage = affineCypher(\"This is a message\", 23, 18)\n",
    "decryptedMessage = affineCypher(encryptedMessage,23,18,True)\n",
    "print(decryptedMessage)"
   ],
   "outputs": [
    {
     "output_type": "stream",
     "name": "stdout",
     "text": [
      "This is a message\n"
     ]
    }
   ],
   "metadata": {}
  },
  {
   "cell_type": "markdown",
   "source": [
    "<h2>Project #18: Vigenere Cypher</h2>\n",
    "<p>Read more on <a href=\"https://en.wikipedia.org/wiki/Vigen%C3%A8re_cipher\">Wikipedia.</a> I don't want to explain all of this, it's basically a bunch of Caesar cyphers that changes based on the key word. The first step was copying the Caesar cypher function from the previous days, all it does is shift the letters based on the index in the alphabet.</p>"
   ],
   "metadata": {}
  },
  {
   "cell_type": "code",
   "execution_count": 76,
   "source": [
    "def caesarCypher(string, key):\n",
    "    letters = \"abcdefghijklmnopqrstuvwxyzABCDEFGHIJKLMNOPQRSTUVWXYZ .,!?-/$%\"\n",
    "    newString = \"\"\n",
    "    for i in range(len(string)):\n",
    "        if string[i] in letters:\n",
    "            letterIndex = letters.index(string[i]) + key\n",
    "            if letterIndex > len(letters)-1:\n",
    "                letterIndex = letterIndex - len(letters)\n",
    "            newString += letters[letterIndex]\n",
    "        else:\n",
    "            newString += string[i]\n",
    "        \n",
    "    return newString"
   ],
   "outputs": [],
   "metadata": {}
  },
  {
   "cell_type": "markdown",
   "source": [
    "<p>So now for the Vigenere cypher, I make a list of the letters in the key phrase that matches the length of the phrase to be encrypted. Now we can iterate through the key list and apply Caesar cypher to each letter of the phrase being encrypted and add that to the output phrase.</p>"
   ],
   "metadata": {}
  },
  {
   "cell_type": "code",
   "execution_count": 78,
   "source": [
    "message = \"This is a message\"\n",
    "keyWord = \"lemon\"\n",
    "def vigenereCypher(phrase,keyWord, decrypt = False):\n",
    "    letters = \"abcdefghijklmnopqrstuvwxyzABCDEFGHIJKLMNOPQRSTUVWXYZ .,!?-/$%\"\n",
    "    keys = []\n",
    "    output = \"\"\n",
    "    if decrypt:\n",
    "        for i in range(len(phrase)):\n",
    "            keys.append(-(letters.index(keyWord[i%len(keyWord)])))\n",
    "        for i in range(len(keys)):\n",
    "            letter = phrase[i]\n",
    "            if letter in letters:\n",
    "                output += caesarCypher(letter,keys[i])\n",
    "            else:\n",
    "                output += letter\n",
    "        return output\n",
    "    for i in range(len(phrase)):\n",
    "        keys.append(letters.index(keyWord[i%len(keyWord)]))\n",
    "    for i in range(len(keys)):\n",
    "        letter = phrase[i]\n",
    "        if letter in letters:\n",
    "            output += caesarCypher(letter,keys[i])\n",
    "        else:\n",
    "            output += letter\n",
    "    return output\n",
    "\n",
    "encryptedMessage = vigenereCypher(message,keyWord)\n",
    "print(encryptedMessage)\n",
    "decryptedMessage = vigenereCypher(encryptedMessage, keyWord, True)\n",
    "print(decryptedMessage)"
   ],
   "outputs": [
    {
     "output_type": "stream",
     "name": "stdout",
     "text": [
      "?luGetwdoexiEGnri\n",
      "This is a message\n"
     ]
    }
   ],
   "metadata": {}
  }
 ],
 "metadata": {
  "orig_nbformat": 4,
  "language_info": {
   "name": "python",
   "version": "3.9.6",
   "mimetype": "text/x-python",
   "codemirror_mode": {
    "name": "ipython",
    "version": 3
   },
   "pygments_lexer": "ipython3",
   "nbconvert_exporter": "python",
   "file_extension": ".py"
  },
  "kernelspec": {
   "name": "python3",
   "display_name": "Python 3.9.6 64-bit"
  },
  "interpreter": {
   "hash": "aee8b7b246df8f9039afb4144a1f6fd8d2ca17a180786b69acc140d282b71a49"
  }
 },
 "nbformat": 4,
 "nbformat_minor": 2
}