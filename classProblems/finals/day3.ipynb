{
 "cells": [
  {
   "cell_type": "markdown",
   "source": [
    "<h1>Project #7: Counting Syllables</h1>\n",
    "<p>Python code to count the number of syllables in an English word</p>\n",
    "<a href=\"https://github.com/cmusphinx/cmudict\"><p>Carnegie Melon Pronouncing Dictionary</p></a>"
   ],
   "metadata": {}
  },
  {
   "cell_type": "markdown",
   "source": [
    "- take user input\n",
    "- open syllable count doc\n",
    "- search through dict for each word\n",
    "- count phonetic syllables associated with each word\n",
    "- return count"
   ],
   "metadata": {}
  },
  {
   "cell_type": "markdown",
   "source": [
    "The following code tests a function to count the number of syllables using NLTK and cmudict. This function will be used in a later project."
   ],
   "metadata": {}
  },
  {
   "cell_type": "code",
   "execution_count": 2,
   "source": [
    "import sys\n",
    "from string import punctuation\n",
    "import json\n",
    "import nltk\n",
    "nltk.download(\"cmudict\")\n",
    "from nltk.corpus import cmudict\n",
    "\n",
    "cmudict = cmudict.dict()\n",
    "\n",
    "with open(\"../resources/missing_words.json\") as f:\n",
    "    missing_words = json.load(f)\n",
    "\n",
    "def count_syllables(words):\n",
    "    num_sylls = 0\n",
    "    for word in words.lower().split():\n",
    "        if word in missing_words:\n",
    "            num_sylls += missing_words[word]\n",
    "        elif word in cmudict.keys():\n",
    "            #aachener: [[AA1 K AH0 N ER0]]\n",
    "            for phonemes in cmudict[word][0]:\n",
    "                for phoneme in phonemes:\n",
    "                    if phoneme.isnumeric():\n",
    "                        num_sylls +=1\n",
    "        else:\n",
    "            num_sylls += int(input(\"Sorry! We don't have that word. Enter the number of syllables:\"))\n",
    "    return num_sylls\n",
    "\n",
    "\n",
    "\n",
    "word = input(\"Enter a word to count syllables\")\n",
    "num_syllables = count_syllables(word)\n",
    "print(num_syllables)"
   ],
   "outputs": [
    {
     "output_type": "stream",
     "name": "stderr",
     "text": [
      "[nltk_data] Downloading package cmudict to /Users/eli/nltk_data...\n",
      "[nltk_data]   Package cmudict is already up-to-date!\n"
     ]
    },
    {
     "output_type": "stream",
     "name": "stdout",
     "text": [
      "2\n"
     ]
    }
   ],
   "metadata": {}
  },
  {
   "cell_type": "markdown",
   "source": [
    "<h1>Project #8: Writing Haikus</h1>\n",
    "<p>Use Markov chain analysis to predict the next word in a series based on the current words.</p>\n",
    "<p>This project creates a Markov model based on user input.</p>\n",
    "<p>Markov model order 1: uses single word to find next word.</p>\n",
    "<p>Markov model order 2: uses 2 words to find next word.</p>\n",
    "<p>We have to use markov model order 1 first to then be able to use order 2 with 2 words.</p>\n",
    "<p>Start a sentence with a random word, check syllables, and predict a word using Markov</p>\n",
    "<p>disregard Order 2 Markov Model. Clean up corpus (punctuation). Write a function that generates a line of poetry with Model. Takes either 5 or 7 syllables as an input. Maybe while loop</p>"
   ],
   "metadata": {}
  },
  {
   "cell_type": "markdown",
   "source": [
    "- Markov model is built by grabbing a word and making a list with the words that follow it. 2nd order is built in the same manner but with a 2 word phrase instead of a single one"
   ],
   "metadata": {}
  },
  {
   "cell_type": "code",
   "execution_count": 3,
   "source": [
    "import sys\n",
    "import logging\n",
    "import random\n",
    "from collections import defaultdict\n",
    "\n",
    "with open(\"../resources/train.txt\",'r') as f:\n",
    "    raw_haiku = f.read()\n",
    "\n",
    "corpus = raw_haiku.replace(\"\\n\",' ')\n",
    "corpus = corpus.replace(\"!\",\"\")\n",
    "corpus = corpus.replace(\",\",\"\")\n",
    "corpus = corpus.replace(\"?\",\"\")\n",
    "corpus = corpus.split()\n",
    "\n",
    "def map_word_to_word(corpus):\n",
    "    limit = len(corpus) - 1\n",
    "    dict1_to_1 = defaultdict(list)\n",
    "    for index, word in enumerate(corpus):\n",
    "        if index < limit:\n",
    "            suffix = corpus[index+1]\n",
    "            dict1_to_1[word].append(suffix)\n",
    "    return dict1_to_1\n",
    "\n",
    "def map2words_to_word(corpus):\n",
    "    limit = len(corpus) - 2\n",
    "    dict2_to_1 = defaultdict(list)\n",
    "    for index, word in enumerate(corpus):\n",
    "        if index < limit:\n",
    "            key = word + \" \" + corpus[index+1]\n",
    "            suffix = corpus[index+2]\n",
    "            dict2_to_1[key].append(suffix)\n",
    "    return dict2_to_1\n",
    "\n",
    "def randomWord(corpus):\n",
    "    word = random.choice(corpus)\n",
    "    num_sylls = count_syllables(word)\n",
    "    return word, num_sylls\n",
    "\n",
    "firstOrderMarkovModel = map_word_to_word(corpus)\n",
    "\n",
    "secondOrderMarkovModel = map2words_to_word(corpus)\n",
    "\n",
    "randomWord(corpus) #returns word with number of syllables"
   ],
   "outputs": [
    {
     "output_type": "execute_result",
     "data": {
      "text/plain": [
       "('temples', 2)"
      ]
     },
     "metadata": {},
     "execution_count": 3
    }
   ],
   "metadata": {}
  },
  {
   "cell_type": "markdown",
   "source": [
    "<p>Now that we have a Markov model to predict the next word in a sentence, we can begin to put that to use and write some haiku lines. Firstly, we need a function to generate the next word based on the previous word. (The second order Markov Model will have to be implemented later, and with a seperate function, the logic is kicking my ass at the moment for a first order Markov.) Generating a word is only the first step, generating multiple, within the syllable restrictions, is the second step.</p>\n",
    "<ul>\n",
    "<li>Syllables</li>\n",
    "<li>Sanity</li>\n",
    "<li>Grammar</li>\n",
    "</ul>"
   ],
   "metadata": {}
  },
  {
   "cell_type": "code",
   "execution_count": 17,
   "source": [
    "def word_after(word, currentSylls, targetSylls,suffixMap=firstOrderMarkovModel):\n",
    "    acceptedWords = []\n",
    "    suffixes = suffixMap[word]\n",
    "    for candidate in suffixes:\n",
    "        num_sylls = count_syllables(candidate)\n",
    "        if currentSylls + num_sylls <= targetSylls:\n",
    "            acceptedWords.append(candidate)\n",
    "    return acceptedWords\n",
    "def word_after2(words, currentSylls, targetSylls,suffixMap=secondOrderMarkovModel):\n",
    "    acceptedWords = []\n",
    "    suffixes = suffixMap[words]\n",
    "    for candidate in suffixes:\n",
    "        numSyllables = count_syllables(candidate)\n",
    "        if currentSylls + numSyllables <= targetSylls:\n",
    "            acceptedWords.append(candidate)\n",
    "    return acceptedWords\n",
    "\n",
    "word, num_sylls1 = randomWord(corpus)\n",
    "\n",
    "word_after(word, num_sylls1,5)\n",
    "\n",
    "word_after2(\"these dark\", 2,5)"
   ],
   "outputs": [
    {
     "output_type": "execute_result",
     "data": {
      "text/plain": [
       "['waters',\n",
       " 'hands',\n",
       " 'hands',\n",
       " 'waters',\n",
       " 'hands',\n",
       " 'waters',\n",
       " 'hands',\n",
       " 'hands',\n",
       " 'waters',\n",
       " 'hands',\n",
       " 'hands',\n",
       " 'waters',\n",
       " 'waters',\n",
       " 'waters',\n",
       " 'waters',\n",
       " 'hands',\n",
       " 'hands',\n",
       " 'hands',\n",
       " 'waters',\n",
       " 'waters',\n",
       " 'waters',\n",
       " 'waters',\n",
       " 'waters',\n",
       " 'hands',\n",
       " 'hands',\n",
       " 'hands',\n",
       " 'hands',\n",
       " 'waters',\n",
       " 'waters',\n",
       " 'hands',\n",
       " 'hands',\n",
       " 'waters',\n",
       " 'waters',\n",
       " 'hands',\n",
       " 'hands']"
      ]
     },
     "metadata": {},
     "execution_count": 17
    }
   ],
   "metadata": {}
  },
  {
   "cell_type": "markdown",
   "source": [
    "<p>Now that we have a function to predict the next word in a haiku, we need a function to string multiple words together and count the syllables</p>"
   ],
   "metadata": {}
  },
  {
   "cell_type": "code",
   "execution_count": 31,
   "source": [
    "def writeLine(seedWord, targetSyllables,suffixMap):\n",
    "    line = seedWord\n",
    "    currentSyllables = count_syllables(seedWord)\n",
    "    while currentSyllables <= targetSyllables:\n",
    "        if len(line.split()) < 2:\n",
    "            words = word_after(seedWord, currentSyllables, targetSyllables)\n",
    "            print(line)\n",
    "        elif len(line.split()) >1:\n",
    "            line = line.split()\n",
    "            words = word_after2(line[-1] + \" \" + line[-2],currentSyllables,targetSyllables)\n",
    "            print(line)\n",
    "        if len(words) > 0:\n",
    "            choice = random.choice(words)\n",
    "        print(line)\n",
    "        for word in line:\n",
    "            line += word\n",
    "        line += \" \" + choice\n",
    "        currentSyllables = count_syllables(line)\n",
    "    return line\n",
    "writeLine('dark',7,firstOrderMarkovModel)"
   ],
   "outputs": [
    {
     "output_type": "stream",
     "name": "stdout",
     "text": [
      "dark\n",
      "dark\n"
     ]
    },
    {
     "output_type": "error",
     "ename": "ValueError",
     "evalue": "invalid literal for int() with base 10: ''",
     "traceback": [
      "\u001b[0;31m---------------------------------------------------------------------------\u001b[0m",
      "\u001b[0;31mValueError\u001b[0m                                Traceback (most recent call last)",
      "Input \u001b[0;32mIn [31]\u001b[0m, in \u001b[0;36m<cell line: 20>\u001b[0;34m()\u001b[0m\n\u001b[1;32m     18\u001b[0m         currentSyllables \u001b[38;5;241m=\u001b[39m count_syllables(line)\n\u001b[1;32m     19\u001b[0m     \u001b[38;5;28;01mreturn\u001b[39;00m line\n\u001b[0;32m---> 20\u001b[0m \u001b[43mwriteLine\u001b[49m\u001b[43m(\u001b[49m\u001b[38;5;124;43m'\u001b[39;49m\u001b[38;5;124;43mdark\u001b[39;49m\u001b[38;5;124;43m'\u001b[39;49m\u001b[43m,\u001b[49m\u001b[38;5;241;43m7\u001b[39;49m\u001b[43m,\u001b[49m\u001b[43mfirstOrderMarkovModel\u001b[49m\u001b[43m)\u001b[49m\n",
      "Input \u001b[0;32mIn [31]\u001b[0m, in \u001b[0;36mwriteLine\u001b[0;34m(seedWord, targetSyllables, suffixMap)\u001b[0m\n\u001b[1;32m     16\u001b[0m         line \u001b[38;5;241m+\u001b[39m\u001b[38;5;241m=\u001b[39m word\n\u001b[1;32m     17\u001b[0m     line \u001b[38;5;241m+\u001b[39m\u001b[38;5;241m=\u001b[39m \u001b[38;5;124m\"\u001b[39m\u001b[38;5;124m \u001b[39m\u001b[38;5;124m\"\u001b[39m \u001b[38;5;241m+\u001b[39m choice\n\u001b[0;32m---> 18\u001b[0m     currentSyllables \u001b[38;5;241m=\u001b[39m \u001b[43mcount_syllables\u001b[49m\u001b[43m(\u001b[49m\u001b[43mline\u001b[49m\u001b[43m)\u001b[49m\n\u001b[1;32m     19\u001b[0m \u001b[38;5;28;01mreturn\u001b[39;00m line\n",
      "Input \u001b[0;32mIn [2]\u001b[0m, in \u001b[0;36mcount_syllables\u001b[0;34m(words)\u001b[0m\n\u001b[1;32m     23\u001b[0m                     num_sylls \u001b[38;5;241m+\u001b[39m\u001b[38;5;241m=\u001b[39m\u001b[38;5;241m1\u001b[39m\n\u001b[1;32m     24\u001b[0m     \u001b[38;5;28;01melse\u001b[39;00m:\n\u001b[0;32m---> 25\u001b[0m         num_sylls \u001b[38;5;241m+\u001b[39m\u001b[38;5;241m=\u001b[39m \u001b[38;5;28;43mint\u001b[39;49m\u001b[43m(\u001b[49m\u001b[38;5;28;43minput\u001b[39;49m\u001b[43m(\u001b[49m\u001b[38;5;124;43m\"\u001b[39;49m\u001b[38;5;124;43mSorry! We don\u001b[39;49m\u001b[38;5;124;43m'\u001b[39;49m\u001b[38;5;124;43mt have that word. Enter the number of syllables:\u001b[39;49m\u001b[38;5;124;43m\"\u001b[39;49m\u001b[43m)\u001b[49m\u001b[43m)\u001b[49m\n\u001b[1;32m     26\u001b[0m \u001b[38;5;28;01mreturn\u001b[39;00m num_sylls\n",
      "\u001b[0;31mValueError\u001b[0m: invalid literal for int() with base 10: ''"
     ]
    }
   ],
   "metadata": {}
  },
  {
   "cell_type": "markdown",
   "source": [
    "<p>So now we can call writeLine and add the results together to form a haiku</p>"
   ],
   "metadata": {}
  },
  {
   "cell_type": "code",
   "execution_count": 21,
   "source": [
    "writeLine(\"summer\",5,firstOrderMarkovModel) + \"/\" + writeLine(\"dark\", 7,firstOrderMarkovModel) + \"/\" + writeLine(\"yellow\",5,firstOrderMarkovModel)"
   ],
   "outputs": [
    {
     "output_type": "execute_result",
     "data": {
      "text/plain": [
       "'summer shower night night/dark clouds arise hut fields clouds clouds/yellow bamboo bamboo'"
      ]
     },
     "metadata": {},
     "execution_count": 21
    }
   ],
   "metadata": {}
  }
 ],
 "metadata": {
  "orig_nbformat": 4,
  "language_info": {
   "name": "python",
   "version": "3.9.6",
   "mimetype": "text/x-python",
   "codemirror_mode": {
    "name": "ipython",
    "version": 3
   },
   "pygments_lexer": "ipython3",
   "nbconvert_exporter": "python",
   "file_extension": ".py"
  },
  "kernelspec": {
   "name": "python3",
   "display_name": "Python 3.9.6 64-bit"
  },
  "interpreter": {
   "hash": "aee8b7b246df8f9039afb4144a1f6fd8d2ca17a180786b69acc140d282b71a49"
  }
 },
 "nbformat": 4,
 "nbformat_minor": 2
}