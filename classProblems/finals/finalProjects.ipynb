{
 "cells": [
  {
   "cell_type": "markdown",
   "source": [
    "<h1>Final Impractical Projects</h1>\n",
    "<h2>Final Project #1: Poor Man's Bar Chart</h2>\n",
    "<p></p>"
   ],
   "metadata": {}
  },
  {
   "cell_type": "code",
   "execution_count": 3,
   "source": [
    "from collections import defaultdict\n",
    "\n",
    "def barChart(phrase):\n",
    "    phrase = phrase.lower()\n",
    "    letters = \"abcdefghijklmnopqrstuvwxyz\"\n",
    "    chart = defaultdict(list)\n",
    "    for i in phrase:\n",
    "        if i in letters:\n",
    "            chart[i].append(i)\n",
    "    return chart\n",
    "\n",
    "barChart(\"a long list of letters to count \")"
   ],
   "outputs": [
    {
     "output_type": "execute_result",
     "data": {
      "text/plain": [
       "defaultdict(list,\n",
       "            {'a': ['a'],\n",
       "             'l': ['l', 'l', 'l'],\n",
       "             'o': ['o', 'o', 'o', 'o'],\n",
       "             'n': ['n', 'n'],\n",
       "             'g': ['g'],\n",
       "             'i': ['i'],\n",
       "             's': ['s', 's'],\n",
       "             't': ['t', 't', 't', 't', 't'],\n",
       "             'f': ['f'],\n",
       "             'e': ['e', 'e'],\n",
       "             'r': ['r'],\n",
       "             'c': ['c'],\n",
       "             'u': ['u']})"
      ]
     },
     "metadata": {},
     "execution_count": 3
    }
   ],
   "metadata": {}
  },
  {
   "cell_type": "markdown",
   "source": [
    "<h2>Final Project #2: Railfence Cypher</h2>\n",
    "<p>The idea behind a railfence cypher is making a \"wave\" out of the characters in the original message and then shoving each line together.</p>\n",
    "\n",
    "<p>Basically, the message \"WAFFLES FOR BREAKFAST\" becomes \n",
    "\n",
    "- W    L    F    B    K    T\n",
    "-   A  F  E * O *  R A  F S\n",
    "-    F    S   R    E    A\n",
    "\n",
    "so the final product would be WLFBKTAFE O RAFSFSREA</p>"
   ],
   "metadata": {}
  },
  {
   "cell_type": "code",
   "execution_count": 49,
   "source": [
    "example = \"WAFFLES FOR BREAKFAST\"\n",
    "\n",
    "def railfenceCypher(message:str,height:int):\n",
    "    work = [] #list for each row in the wave\n",
    "    \n",
    "    upwards = False\n",
    "    for i in range(height):\n",
    "        work.append([])\n",
    "    for i in range(len(message)):\n",
    "        index = i%height\n",
    "        if index == height-1:\n",
    "            upwards = True\n",
    "        elif index == 0:\n",
    "            upwards = False\n",
    "        print(upwards)\n",
    "        if upwards:\n",
    "            work[-index].append(message[i])\n",
    "        elif not upwards:\n",
    "            work[index].append(message[i])\n",
    "    return work\n",
    "\n",
    "railfenceCypher(example,3)"
   ],
   "outputs": [
    {
     "output_type": "stream",
     "name": "stdout",
     "text": [
      "False\n",
      "False\n",
      "True\n",
      "False\n",
      "False\n",
      "True\n",
      "False\n",
      "False\n",
      "True\n",
      "False\n",
      "False\n",
      "True\n",
      "False\n",
      "False\n",
      "True\n",
      "False\n",
      "False\n",
      "True\n",
      "False\n",
      "False\n",
      "True\n"
     ]
    },
    {
     "output_type": "execute_result",
     "data": {
      "text/plain": [
       "[['W', 'F', 'S', 'O', 'B', 'A', 'A'],\n",
       " ['A', 'F', 'L', 'E', ' ', 'F', 'R', ' ', 'R', 'E', 'K', 'F', 'S', 'T'],\n",
       " []]"
      ]
     },
     "metadata": {},
     "execution_count": 49
    }
   ],
   "metadata": {}
  },
  {
   "cell_type": "markdown",
   "source": [
    "<h2>Final Project #3: Subset Equality</h2>\n",
    "<a href = \"http://www.usaco.org/index.php?page=viewproblem2&cpid=1231\">Problem here</a>\n",
    "<p>This problem involves reducing the input to the letters in the following rows. Then checking for equality between the two input statements. The letters are only a-r. The first two lines are string1 and string2 to be compared. All the lines after that contain the only remaining letters in the initial strings.</p>\n",
    "\n",
    "- get the letters in the query\n",
    "- modify the two initial strings to only contain those letters\n",
    "    - if not in query\n",
    "- compare the strings\n",
    "- append the result to a dictionary\n",
    "\n",
    "ex. \n",
    "aabcd\n",
    "caabd\n",
    "{\n",
    "a: True\n",
    "ac: False\n",
    "abd: True\n",
    "abcd: False\n",
    "}"
   ],
   "metadata": {}
  },
  {
   "cell_type": "code",
   "execution_count": 5,
   "source": [
    "string1 = \"aabcd\"\n",
    "string2 = \"caabd\"\n",
    "\n",
    "queries = ['a','ac','abd','abcd']\n",
    "\n",
    "def queryChecker(string1, string2, queries):\n",
    "    queriesDict = {}\n",
    "    for i in queries:\n",
    "        testString1 = \"\"\n",
    "        testString2 = \"\"\n",
    "        for letter in string1:\n",
    "            if letter in i:\n",
    "                testString1+=letter\n",
    "        for letter in string2:\n",
    "            if letter in i:\n",
    "                testString2+=letter\n",
    "        if testString1 == testString2:\n",
    "            queriesDict[i] = True\n",
    "        elif testString1 != testString2:\n",
    "            queriesDict[i] = False\n",
    "    return queriesDict\n",
    "\n",
    "queryChecker(string1,string2,queries)"
   ],
   "outputs": [
    {
     "output_type": "execute_result",
     "data": {
      "text/plain": [
       "{'a': True, 'ac': False, 'abd': True, 'abcd': False}"
      ]
     },
     "metadata": {},
     "execution_count": 5
    }
   ],
   "metadata": {}
  }
 ],
 "metadata": {
  "orig_nbformat": 4,
  "language_info": {
   "name": "python",
   "version": "3.9.6",
   "mimetype": "text/x-python",
   "codemirror_mode": {
    "name": "ipython",
    "version": 3
   },
   "pygments_lexer": "ipython3",
   "nbconvert_exporter": "python",
   "file_extension": ".py"
  },
  "kernelspec": {
   "name": "python3",
   "display_name": "Python 3.9.6 64-bit"
  },
  "interpreter": {
   "hash": "aee8b7b246df8f9039afb4144a1f6fd8d2ca17a180786b69acc140d282b71a49"
  }
 },
 "nbformat": 4,
 "nbformat_minor": 2
}