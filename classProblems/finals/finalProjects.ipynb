{
 "cells": [
  {
   "cell_type": "markdown",
   "source": [
    "<h1>Final Impractical Projects</h1>\n",
    "<h2>Final Project #1: BarChart</h2>"
   ],
   "metadata": {}
  },
  {
   "cell_type": "code",
   "execution_count": 3,
   "source": [
    "from collections import defaultdict\n",
    "\n",
    "def barChart(phrase):\n",
    "    phrase = phrase.lower()\n",
    "    letters = \"abcdefghijklmnopqrstuvwxyz\"\n",
    "    chart = defaultdict(list)\n",
    "    for i in phrase:\n",
    "        if i in letters:\n",
    "            chart[i].append(i)\n",
    "    return chart\n",
    "\n",
    "barChart(\"a long list of letters to count \")"
   ],
   "outputs": [
    {
     "output_type": "execute_result",
     "data": {
      "text/plain": [
       "defaultdict(list,\n",
       "            {'a': ['a'],\n",
       "             'l': ['l', 'l', 'l'],\n",
       "             'o': ['o', 'o', 'o', 'o'],\n",
       "             'n': ['n', 'n'],\n",
       "             'g': ['g'],\n",
       "             'i': ['i'],\n",
       "             's': ['s', 's'],\n",
       "             't': ['t', 't', 't', 't', 't'],\n",
       "             'f': ['f'],\n",
       "             'e': ['e', 'e'],\n",
       "             'r': ['r'],\n",
       "             'c': ['c'],\n",
       "             'u': ['u']})"
      ]
     },
     "metadata": {},
     "execution_count": 3
    }
   ],
   "metadata": {}
  }
 ],
 "metadata": {
  "orig_nbformat": 4,
  "language_info": {
   "name": "python",
   "version": "3.9.6",
   "mimetype": "text/x-python",
   "codemirror_mode": {
    "name": "ipython",
    "version": 3
   },
   "pygments_lexer": "ipython3",
   "nbconvert_exporter": "python",
   "file_extension": ".py"
  },
  "kernelspec": {
   "name": "python3",
   "display_name": "Python 3.9.6 64-bit"
  },
  "interpreter": {
   "hash": "aee8b7b246df8f9039afb4144a1f6fd8d2ca17a180786b69acc140d282b71a49"
  }
 },
 "nbformat": 4,
 "nbformat_minor": 2
}