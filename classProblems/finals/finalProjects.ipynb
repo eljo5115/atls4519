{
 "cells": [
  {
   "cell_type": "markdown",
   "source": [
    "<h1>Final Impractical Projects</h1>\n",
    "<h2>Final Project #1: Poor Man's Bar Chart</h2>\n",
    "<p></p>"
   ],
   "metadata": {}
  },
  {
   "cell_type": "code",
   "execution_count": 3,
   "source": [
    "from collections import defaultdict\n",
    "\n",
    "def barChart(phrase):\n",
    "    phrase = phrase.lower()\n",
    "    letters = \"abcdefghijklmnopqrstuvwxyz\"\n",
    "    chart = defaultdict(list)\n",
    "    for i in phrase:\n",
    "        if i in letters:\n",
    "            chart[i].append(i)\n",
    "    return chart\n",
    "\n",
    "barChart(\"a long list of letters to count \")"
   ],
   "outputs": [
    {
     "output_type": "execute_result",
     "data": {
      "text/plain": [
       "defaultdict(list,\n",
       "            {'a': ['a'],\n",
       "             'l': ['l', 'l', 'l'],\n",
       "             'o': ['o', 'o', 'o', 'o'],\n",
       "             'n': ['n', 'n'],\n",
       "             'g': ['g'],\n",
       "             'i': ['i'],\n",
       "             's': ['s', 's'],\n",
       "             't': ['t', 't', 't', 't', 't'],\n",
       "             'f': ['f'],\n",
       "             'e': ['e', 'e'],\n",
       "             'r': ['r'],\n",
       "             'c': ['c'],\n",
       "             'u': ['u']})"
      ]
     },
     "metadata": {},
     "execution_count": 3
    }
   ],
   "metadata": {}
  },
  {
   "cell_type": "markdown",
   "source": [
    "<h2>Final Project #2: Railfence Cypher</h2>\n",
    "<p>The idea behind a railfence cypher is making a \"wave\" out of the characters in the original message and then shoving each line together.</p>\n",
    "\n",
    "<p>Basically, the message \"WAFFLES FOR BREAKFAST\" becomes \n",
    "\n",
    "- W    L    F    B    K    T\n",
    "-   A  F  E * O *  R A  F S\n",
    "-    F    S   R    E    A\n",
    "\n",
    "so the final product would be WLFBKTAFE O RAFSFSREA</p>"
   ],
   "metadata": {}
  },
  {
   "cell_type": "code",
   "execution_count": 17,
   "source": [
    "example = \"WAFFLES FOR BREAKFAST\"\n",
    "encrypted = 'WLFBKTAFE O RAFSFSREA'\n",
    "def railfenceCypher(message:str,height:int,decrypt:bool=False):\n",
    "    work = []\n",
    "    upwards = False\n",
    "    row = 0\n",
    "    \n",
    "    if decrypt:\n",
    "        for i in range(height):\n",
    "                work.append(['_']*len(message))\n",
    "        row,col = 0,0\n",
    "        for i in range(len(message)):\n",
    "            if row==0:\n",
    "                upwards = True\n",
    "            if row==height - 1:\n",
    "                upwards = False\n",
    "            work[row][col] = \"*\"\n",
    "            col+=1\n",
    "            if upwards:\n",
    "                row+=1\n",
    "            else:\n",
    "                row-=1  \n",
    "        index = 0 \n",
    "        for i in range(height):\n",
    "            for j in range(len(message)):\n",
    "                if work[i][j] == \"*\" and index < len(message):\n",
    "                    work[i][j] = message[index]\n",
    "                    index +=1\n",
    "        final = \"\"\n",
    "        row,col=0,0\n",
    "        for i in range(len(message)):\n",
    "            if row==0:\n",
    "                upwards = True\n",
    "            if row==height - 1:\n",
    "                upwards = False\n",
    "        \n",
    "            if work[row][col] != \"*\":\n",
    "                final += work[row][col]\n",
    "                col+=1\n",
    "            if upwards:\n",
    "                row+=1\n",
    "            else:\n",
    "                row-=1 \n",
    "        return final\n",
    "        \n",
    "    elif not decrypt:\n",
    "        for i in range(height):\n",
    "            work.append([])\n",
    "        for i in range(len(message)):\n",
    "            if row == height-1 or row == 0:\n",
    "                upwards = not upwards\n",
    "            work[row]+=message[i]\n",
    "            if upwards:\n",
    "                row += 1\n",
    "            else:\n",
    "                row -=1\n",
    "        final = \"\"\n",
    "        for i in work:\n",
    "            for j in i:\n",
    "                final += j\n",
    "        return final\n",
    "\n",
    "print(railfenceCypher(example,3))\n",
    "print(railfenceCypher(encrypted,3,True))"
   ],
   "outputs": [
    {
     "output_type": "stream",
     "name": "stdout",
     "text": [
      "WLFBKTAFE O RAFSFSREA\n",
      "WAFFLES FOR BREAKFAST\n"
     ]
    }
   ],
   "metadata": {}
  },
  {
   "cell_type": "markdown",
   "source": [
    "<h2>Final Project #3: Subset Equality</h2>\n",
    "<a href = \"http://www.usaco.org/index.php?page=viewproblem2&cpid=1231\">Problem here</a>\n",
    "<p>This problem involves reducing the input to the letters in the following rows. Then checking for equality between the two input statements. The letters are only a-r. The first two lines are string1 and string2 to be compared. All the lines after that contain the only remaining letters in the initial strings.</p>\n",
    "\n",
    "- get the letters in the query\n",
    "- modify the two initial strings to only contain those letters\n",
    "    - if not in query\n",
    "- compare the strings\n",
    "- append the result to a dictionary\n",
    "\n",
    "ex. \n",
    "aabcd\n",
    "caabd\n",
    "{\n",
    "a: True\n",
    "ac: False\n",
    "abd: True\n",
    "abcd: False\n",
    "}"
   ],
   "metadata": {}
  },
  {
   "cell_type": "code",
   "execution_count": 208,
   "source": [
    "queries = []\n",
    "with open(\"../resources/prob2_silver_open22/1.in\") as f: #1 and 2 run, but 3 seems to take too long to be reasonable\n",
    "    fileIn = f.readlines()\n",
    "string1 = fileIn[0]\n",
    "string2 = fileIn[1]\n",
    "numQueries = fileIn[2]\n",
    "for query in fileIn[3:]:\n",
    "    queries.append(query.strip())\n",
    "\n",
    "def queryChecker(string1, string2, queries):\n",
    "    queriesDict = {}\n",
    "    for i in queries:\n",
    "        testString1 = \"\"\n",
    "        testString2 = \"\"\n",
    "        for letter in string1:\n",
    "            if letter in i:\n",
    "                testString1+=letter\n",
    "        for letter in string2:\n",
    "            if letter in i:\n",
    "                testString2+=letter\n",
    "        if testString1 == testString2:\n",
    "            queriesDict[i] = True\n",
    "        elif testString1 != testString2:\n",
    "            queriesDict[i] = False\n",
    "    return queriesDict\n",
    "\n",
    "queryChecker(string1,string2,queries)"
   ],
   "outputs": [
    {
     "output_type": "error",
     "ename": "KeyboardInterrupt",
     "evalue": "",
     "traceback": [
      "\u001b[0;31m---------------------------------------------------------------------------\u001b[0m",
      "\u001b[0;31mKeyboardInterrupt\u001b[0m                         Traceback (most recent call last)",
      "Input \u001b[0;32mIn [208]\u001b[0m, in \u001b[0;36m<cell line: 27>\u001b[0;34m()\u001b[0m\n\u001b[1;32m     24\u001b[0m             queriesDict[i] \u001b[38;5;241m=\u001b[39m \u001b[38;5;28;01mFalse\u001b[39;00m\n\u001b[1;32m     25\u001b[0m     \u001b[38;5;28;01mreturn\u001b[39;00m queriesDict\n\u001b[0;32m---> 27\u001b[0m \u001b[43mqueryChecker\u001b[49m\u001b[43m(\u001b[49m\u001b[43mstring1\u001b[49m\u001b[43m,\u001b[49m\u001b[43mstring2\u001b[49m\u001b[43m,\u001b[49m\u001b[43mqueries\u001b[49m\u001b[43m)\u001b[49m\n",
      "Input \u001b[0;32mIn [208]\u001b[0m, in \u001b[0;36mqueryChecker\u001b[0;34m(string1, string2, queries)\u001b[0m\n\u001b[1;32m     18\u001b[0m \u001b[38;5;28;01mfor\u001b[39;00m letter \u001b[38;5;129;01min\u001b[39;00m string2:\n\u001b[1;32m     19\u001b[0m     \u001b[38;5;28;01mif\u001b[39;00m letter \u001b[38;5;129;01min\u001b[39;00m i:\n\u001b[0;32m---> 20\u001b[0m         testString2\u001b[38;5;241m+\u001b[39m\u001b[38;5;241m=\u001b[39mletter\n\u001b[1;32m     21\u001b[0m \u001b[38;5;28;01mif\u001b[39;00m testString1 \u001b[38;5;241m==\u001b[39m testString2:\n\u001b[1;32m     22\u001b[0m     queriesDict[i] \u001b[38;5;241m=\u001b[39m \u001b[38;5;28;01mTrue\u001b[39;00m\n",
      "\u001b[0;31mKeyboardInterrupt\u001b[0m: "
     ]
    }
   ],
   "metadata": {}
  }
 ],
 "metadata": {
  "orig_nbformat": 4,
  "language_info": {
   "name": "python",
   "version": "3.9.6",
   "mimetype": "text/x-python",
   "codemirror_mode": {
    "name": "ipython",
    "version": 3
   },
   "pygments_lexer": "ipython3",
   "nbconvert_exporter": "python",
   "file_extension": ".py"
  },
  "kernelspec": {
   "name": "python3",
   "display_name": "Python 3.9.6 64-bit"
  },
  "interpreter": {
   "hash": "aee8b7b246df8f9039afb4144a1f6fd8d2ca17a180786b69acc140d282b71a49"
  }
 },
 "nbformat": 4,
 "nbformat_minor": 2
}