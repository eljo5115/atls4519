{
 "cells": [
  {
   "cell_type": "markdown",
   "source": [
    "<h1>Day 8 Projects</h1>\n",
    "<h2>Project #25: Martha's Casino</h2>\n",
    "<a href = \"https://dmoj.ca/problem/ccc00s1\">Problem statement found here</a>\n",
    "<p>Martha plays 3 machines in turn. The first machine pays 30 quarters every 35th play. The second machine pays 60 quarters every 100th play. The third machine pays 9 quarters every 10 play. The program intakes the number of quarters Martha has and how many times each machine has been played since the last payout.</p>\n",
    "\n",
    "<p>I defined functions for each machine to keep track of the plays and update the quarters as they are won or used. The final function is just a while loop to iterate through each machine play until Martha runs out of quarters while also counting each machine play.</p>"
   ],
   "metadata": {}
  },
  {
   "cell_type": "code",
   "execution_count": 76,
   "source": [
    "import random\n",
    "\n",
    "quarters = random.randint(0,1000)\n",
    "machine_one = random.randint(0,35) \n",
    "machine_two = random.randint(0,100) \n",
    "machine_three = random.randint(0,10) \n",
    "\n",
    "print(quarters,machine_one,machine_two,machine_three)\n",
    "\n",
    "def machine1(quarters,plays):\n",
    "    quarters-=1\n",
    "    plays+=1\n",
    "    if plays >= 35:\n",
    "        quarters += 30\n",
    "        plays = 0\n",
    "    return quarters,plays\n",
    "\n",
    "def machine2(quarters,plays):\n",
    "    quarters -= 1\n",
    "    plays += 1\n",
    "    if plays >= 100:\n",
    "        quarters += 60\n",
    "        plays = 0\n",
    "        #print(\"yippee\")\n",
    "    return quarters, plays\n",
    "\n",
    "def machine3(quarters,plays):\n",
    "    quarters -=1\n",
    "    plays += 1\n",
    "    if plays >= 10:\n",
    "        quarters += 9\n",
    "        plays = 0\n",
    "    return quarters, plays\n",
    "\n"
   ],
   "outputs": [
    {
     "output_type": "stream",
     "name": "stdout",
     "text": [
      "549 10 8 1\n"
     ]
    }
   ],
   "metadata": {}
  },
  {
   "cell_type": "code",
   "execution_count": 78,
   "source": [
    "def marthaPlays(quarters,plays1,plays2,plays3):\n",
    "    timesPlayed = 0\n",
    "    while quarters >0:\n",
    "        quarters, plays1 = machine1(quarters,plays1)\n",
    "        timesPlayed +=1\n",
    "        if quarters ==0:\n",
    "            break\n",
    "        quarters, plays2 = machine2(quarters,plays2)\n",
    "        timesPlayed +=1\n",
    "        if quarters ==0:\n",
    "            break\n",
    "        quarters, plays3 = machine3(quarters,plays3)\n",
    "        timesPlayed +=1\n",
    "        if quarters ==0:\n",
    "            break\n",
    "    return timesPlayed\n",
    "\n",
    "print(\"Marthe plays \" + str(marthaPlays(quarters,machine_one,machine_two,machine_three)) +\" times before going broke.\")"
   ],
   "outputs": [
    {
     "output_type": "stream",
     "name": "stdout",
     "text": [
      "Marthe plays 2274 times before going broke.\n"
     ]
    }
   ],
   "metadata": {}
  },
  {
   "cell_type": "markdown",
   "source": [
    "<h2>Project #26: Relative Scarfs</h2>\n",
    "<a href = \"https://dmoj.ca/problem/dmopc20c2p2\">Problem statement can be found here</a>\n",
    "<p>"
   ],
   "metadata": {}
  },
  {
   "cell_type": "code",
   "execution_count": 95,
   "source": [
    "scarf = [1,2,3]\n",
    "relatives=[[3,2]]\n",
    "\n",
    "def makeScarf(scarf:list,relative:list):\n",
    "    length = 0\n",
    "    for i in relatives:\n",
    "        if i[0] in scarf and i[1] in scarf:\n",
    "            index1 = scarf.index(i[0])\n",
    "            index2 = scarf.index(i[1]) - 1\n",
    "            if index2-index1 > length:\n",
    "                length = index2-index1\n",
    "    if length != 0:\n",
    "        return length + 1\n",
    "    else:\n",
    "        return 0\n",
    "\n",
    "makeScarf(scarf,relatives)"
   ],
   "outputs": [
    {
     "output_type": "execute_result",
     "data": {
      "text/plain": [
       "0"
      ]
     },
     "metadata": {},
     "execution_count": 95
    }
   ],
   "metadata": {}
  },
  {
   "cell_type": "markdown",
   "source": [
    "<h2>Project #26: Luka's Code</h2>\n",
    "<a href=\"https://dmoj.ca/problem/coci08c3p2\"> Problem found here </a>\n",
    "<p>Luka's \"cypher\" adds the letter \"P\" after every vowel followed by the original vowel. Might as well write a program to add P's as well.</p>\n",
    "\n",
    "- define the patterns we are looking to remove/modify (p followed by a vowel)\n",
    "- iterate through the string checking for the previously defined pattern preceded by a vowel\n",
    "- remove the p\n",
    "- iterate through the string with the p's removed and find places where two letters are together and remove one of them\n",
    "- return a string after these modifications have been made"
   ],
   "metadata": {}
  },
  {
   "cell_type": "code",
   "execution_count": 44,
   "source": [
    "def lukaCypher(phrase, decrypt:bool=False):\n",
    "    peeVowels = ['pa','pe','pi','po','pu']\n",
    "    vowels = ['a','e','i','o','u']\n",
    "    newPhrase = \"\"\n",
    "    if decrypt == True:\n",
    "        for i in range(0,len(phrase)):\n",
    "            #print((phrase[i:i+2] in peeVowels) and (phrase[i-1] in vowels))\n",
    "            if not ((phrase[i:i+2] in peeVowels) and (phrase[i-1] in vowels)):\n",
    "                newPhrase += phrase[i]\n",
    "        newestPhrase = \"\"\n",
    "        for i in range(0,len(newPhrase)):\n",
    "            if not newPhrase[i]==newPhrase[i-1]:\n",
    "                newestPhrase += newPhrase[i]\n",
    "    return newestPhrase\n",
    "\n",
    "lukaCypher(\"zepelepenapa papapripikapa\", True)"
   ],
   "outputs": [
    {
     "output_type": "execute_result",
     "data": {
      "text/plain": [
       "'zelena paprika'"
      ]
     },
     "metadata": {},
     "execution_count": 44
    }
   ],
   "metadata": {}
  }
 ],
 "metadata": {
  "orig_nbformat": 4,
  "language_info": {
   "name": "python",
   "version": "3.9.6",
   "mimetype": "text/x-python",
   "codemirror_mode": {
    "name": "ipython",
    "version": 3
   },
   "pygments_lexer": "ipython3",
   "nbconvert_exporter": "python",
   "file_extension": ".py"
  },
  "kernelspec": {
   "name": "python3",
   "display_name": "Python 3.9.6 64-bit"
  },
  "interpreter": {
   "hash": "aee8b7b246df8f9039afb4144a1f6fd8d2ca17a180786b69acc140d282b71a49"
  }
 },
 "nbformat": 4,
 "nbformat_minor": 2
}