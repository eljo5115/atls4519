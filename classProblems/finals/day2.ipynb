{
 "cells": [
  {
   "cell_type": "markdown",
   "source": [
    "<h1>Project #4: Anagrams</h1>\n",
    "<p>Find anagrams of English words with a dictionary reference</p>\n",
    "<hr>\n",
    "<p>This can be accomplished by profiling each word into a python dictionary with the count of each letter and searching for equivalent dictionaries in the English dictionary</p>\n",
    "<p>The following function returns a dictionary with the letter count for a string input</p>"
   ],
   "metadata": {}
  },
  {
   "cell_type": "code",
   "execution_count": 8,
   "source": [
    "test = \"refrigerator\"\n",
    "\n",
    "def countLetters(word):\n",
    "    count = {}\n",
    "    for letter in word:\n",
    "        if letter in count:\n",
    "            count[letter] += 1\n",
    "        else:\n",
    "            count[letter] = 1\n",
    "    return count\n",
    "\n",
    "countLetters(test)"
   ],
   "outputs": [
    {
     "output_type": "execute_result",
     "data": {
      "text/plain": [
       "{'r': 4, 'e': 2, 'f': 1, 'i': 1, 'g': 1, 'a': 1, 't': 1, 'o': 1}"
      ]
     },
     "metadata": {},
     "execution_count": 8
    }
   ],
   "metadata": {}
  },
  {
   "cell_type": "markdown",
   "source": [
    "<p>Now that we have a function to generate dictionaries, we can iterate through the dictionary and compare each word's dictionary tof find anagrams.</p>"
   ],
   "metadata": {}
  },
  {
   "cell_type": "code",
   "execution_count": 7,
   "source": [
    "inputWord = \"stop\" #change this to find different anagrams\n",
    "\n",
    "comparison = countLetters(inputWord)\n",
    "\n",
    "bigList = open(\"../resources/2of4brif.txt\")\n",
    "anagrams = []\n",
    "for word in bigList:\n",
    "    word=word.strip()\n",
    "    if countLetters(word)==comparison:\n",
    "        anagrams.append(word)\n",
    "\n",
    "print(anagrams)"
   ],
   "outputs": [
    {
     "output_type": "stream",
     "name": "stdout",
     "text": [
      "['opts', 'post', 'pots', 'spot', 'stop', 'tops']\n"
     ]
    }
   ],
   "metadata": {}
  },
  {
   "cell_type": "markdown",
   "source": [
    "<h1>Project #5 & #6: Phrase Anagrams</h1>\n",
    "<h4>Find possible anagrams using multiple english words</h4>\n",
    "<p>We can use the previously defined function, with some slight modifications to remove any spaces, to get the letter count in a phrase.</p>"
   ],
   "metadata": {}
  },
  {
   "cell_type": "code",
   "execution_count": 4,
   "source": [
    "test = \"stoop toot\"\n",
    "\n",
    "def countLetters(word):\n",
    "    count = {}\n",
    "    word = word.strip().replace(\" \",\"\")\n",
    "    for letter in word:\n",
    "        if letter in count:\n",
    "            count[letter] += 1\n",
    "        else:\n",
    "            count[letter] = 1\n",
    "    return count\n",
    "\n",
    "countLetters(test)"
   ],
   "outputs": [
    {
     "output_type": "execute_result",
     "data": {
      "text/plain": [
       "{'s': 1, 't': 3, 'o': 4, 'p': 1}"
      ]
     },
     "metadata": {},
     "execution_count": 4
    }
   ],
   "metadata": {}
  },
  {
   "cell_type": "markdown",
   "source": [
    "<p>Now that we have a function to generate dictionaries, we can iterate through the dictionary and compare each word's dictionary.</p>"
   ],
   "metadata": {}
  },
  {
   "cell_type": "code",
   "execution_count": 13,
   "source": [
    "inputWord = \"stop\" #change this to find different anagrams\n",
    "\n",
    "def findAnagrams(phrase):\n",
    "    bigList = open(\"../resources/2of4brif.txt\",\"r\")\n",
    "    anagrams = []\n",
    "    comparison = countLetters(phrase)\n",
    "    for w in bigList:\n",
    "        w=w.strip()\n",
    "        if countLetters(w)==comparison:\n",
    "            anagrams.append(w)\n",
    "    return anagrams\n",
    "findAnagrams(inputWord)"
   ],
   "outputs": [
    {
     "output_type": "execute_result",
     "data": {
      "text/plain": [
       "['opts', 'post', 'pots', 'spot', 'stop', 'tops']"
      ]
     },
     "metadata": {},
     "execution_count": 13
    }
   ],
   "metadata": {}
  },
  {
   "cell_type": "markdown",
   "source": [
    "<p>Now that we have a function to find anagrams in the dictionary, we need an algorithm to find all possible words from a given phrase. The itertools library can accomplish this with either permutations or combinations. Combinations makes the code simpler because the findAnagrams function is not order specific. Using a for loop can generate all possible lengths of words from the input phrase</p>\n"
   ],
   "metadata": {}
  },
  {
   "cell_type": "code",
   "execution_count": 37,
   "source": [
    "from itertools import combinations\n",
    "\n",
    "def phraseFinder(phrase):\n",
    "    combs = []\n",
    "    candidates = []\n",
    "    finals = []\n",
    "    phrase = phrase.strip()\n",
    "    phrase = phrase.replace(\" \",\"\")\n",
    "    letters = countLetters(phrase)\n",
    "    for j in range(1,len(phrase)+1):\n",
    "        work = [''.join(i) for i in combinations(phrase,j)]\n",
    "        combs.extend(work)\n",
    "\n",
    "    for item in combs:\n",
    "        candidates.extend(findAnagrams(item))\n",
    "    for i in range(len(candidates)):\n",
    "        for item in candidates:\n",
    "            phrase = candidates[i] + \" \" + item\n",
    "            if countLetters(phrase) == letters:\n",
    "                if phrase not in finals:\n",
    "                    finals.append(phrase)\n",
    "            else:\n",
    "                candidates[i]\n",
    "    return finals\n",
    "    \n",
    "phraseFinder(\"eli jordan\") #try your name! careful of complexity\n"
   ],
   "outputs": [
    {
     "output_type": "execute_result",
     "data": {
      "text/plain": [
       "['lad joiner',\n",
       " 'lad rejoin',\n",
       " 'nor jailed',\n",
       " 'don jailer',\n",
       " 'nod jailer',\n",
       " 'jail drone',\n",
       " 'join alder',\n",
       " 'alder join',\n",
       " 'drone jail',\n",
       " 'jailer don',\n",
       " 'jailer nod',\n",
       " 'jailed nor',\n",
       " 'joiner lad',\n",
       " 'rejoin lad']"
      ]
     },
     "metadata": {},
     "execution_count": 37
    }
   ],
   "metadata": {}
  }
 ],
 "metadata": {
  "orig_nbformat": 4,
  "language_info": {
   "name": "python",
   "version": "3.9.6",
   "mimetype": "text/x-python",
   "codemirror_mode": {
    "name": "ipython",
    "version": 3
   },
   "pygments_lexer": "ipython3",
   "nbconvert_exporter": "python",
   "file_extension": ".py"
  },
  "kernelspec": {
   "name": "python3",
   "display_name": "Python 3.9.6 64-bit"
  },
  "interpreter": {
   "hash": "aee8b7b246df8f9039afb4144a1f6fd8d2ca17a180786b69acc140d282b71a49"
  }
 },
 "nbformat": 4,
 "nbformat_minor": 2
}