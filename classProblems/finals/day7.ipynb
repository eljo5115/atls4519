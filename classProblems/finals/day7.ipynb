{
 "cells": [
  {
   "cell_type": "markdown",
   "source": [
    "<h1>Day 7 Projects</h1>\n",
    "<h2>Project #22: Lifeguards</h2>\n",
    "<p>View full problem details <a href = \"http://www.usaco.org/index.php?page=viewproblem2&cpid=784\">here.</a></p>\n",
    "<p>Pool is open from time = 0 to time = 1000. Each shift is measured using start time and end time. Shift length is the simple difference between the end time and start time. The first line of the input is the number of lifeguards. Every line after that is the start time and end time of each lifeguard.</p>\n",
    "\n",
    "- create a data structure for each interval on the timeline\n",
    "- map cows covering a time interval to those time intervals\n",
    "- fire a cow and iterate through, calculating the amount of time covered\n",
    "- calculate overlap for each cow 1-(len(intervals)/endTime - startTime)\n",
    "\n",
    "<p>The Cow class in the following cell can be used to create a list of times the Cow is working using the start and end time and we can access this later as we need to</p>"
   ],
   "metadata": {}
  },
  {
   "cell_type": "code",
   "execution_count": 22,
   "source": [
    "class Cow:\n",
    "    def __init__(self,startTime,endTime):\n",
    "        self.startTime = startTime\n",
    "        self.endTime = endTime\n",
    "        self.interval = list(range(startTime,endTime))"
   ],
   "outputs": [],
   "metadata": {}
  },
  {
   "cell_type": "markdown",
   "source": [
    "<p>Ignoring the file input leaves us with an already clean list which simplifies the first part of the problem a lot. We can create a list with an index for each time during the day the pool could be open. We can iterate through the list of times to instantiate the cow objects into the appropriate index in the availableTimes list while also adding each cow object to a seperate list. The second list, here it's longCows, is used when iterating through the availableTimes list to find the maximum amount of time while ignoring each cow in the longCows list, essentially simulating firing each cow individually before deciding how much time will be covered.</p>"
   ],
   "metadata": {}
  },
  {
   "cell_type": "code",
   "execution_count": 33,
   "source": [
    "cowTimeList = [[5,8],[10,15],[17,25],[9,20]]\n",
    "\n",
    "def calculateMaxTime(cowTimeList:list):\n",
    "    longCows = []\n",
    "\n",
    "    availableTimes = []\n",
    "\n",
    "    for i in range(1000):\n",
    "        availableTimes.append([])\n",
    "\n",
    "    for i in cowTimeList:\n",
    "        workCow = Cow(i[0],i[1])\n",
    "        for hour in workCow.interval:\n",
    "            availableTimes[hour].append(workCow)\n",
    "        longCows.append(workCow)\n",
    "\n",
    "    finalHoursCovered = 0\n",
    "    for cow in longCows:\n",
    "        workList = availableTimes.copy()\n",
    "        workHours = 0\n",
    "        for i in workList:\n",
    "            if len(i) > 1:\n",
    "                workHours += 1\n",
    "            elif len(i) == 1 and i[0] != cow:\n",
    "                workHours +=1\n",
    "        if workHours > finalHoursCovered:\n",
    "            finalHoursCovered = workHours\n",
    "    return finalHoursCovered\n",
    "\n",
    "calculateMaxTime(cowTimeList)"
   ],
   "outputs": [
    {
     "output_type": "execute_result",
     "data": {
      "text/plain": [
       "19"
      ]
     },
     "metadata": {},
     "execution_count": 33
    }
   ],
   "metadata": {}
  },
  {
   "cell_type": "markdown",
   "source": [
    "<h2>Project #23: Ski Design</h2>\n",
    "<p>Same as the problem above, the full prompt can be read <a href = \"http://www.usaco.org/index.php?page=viewproblem2&cpid=376\">here</a></p>\n",
    "<p>Farmer John has hills between height 0-100. During the winter he uses these hills to ski. The difference between the tallest and shortest hill has to be 17 or less to avoid paying taxes. To increase a hill by x it costs x^2. Calculate the cost to change the height of the hills.</p>\n",
    "\n",
    "- find the difference between the tallest and shortest hills\n",
    "- subtract 17 from that difference to find the total amount that has to shift\n",
    "- add half to the shortest, subtract half from the tallest\n",
    "- sorted list of hills, if list[1] - list[0] < min and list[n-1]-list[n-2] < min, we need multiple hills to move\n",
    "- if smallest are far enough or biggest are far enough we only need 1 hill"
   ],
   "metadata": {}
  },
  {
   "cell_type": "code",
   "execution_count": 2,
   "source": [
    "numHills = 5\n",
    "hillList = [1,4,20,21,24]\n",
    "\n",
    "\n",
    "minimumChange = ((max(hillList) - min(hillList))-17) #calculates the minimum amount of total change in the hills\n",
    "def hillCheck(listOfHills:list):\n",
    "    hills = listOfHills.copy()\n",
    "    hills.sort()\n",
    "    cost = 0\n",
    "    change = [0]*len(hills)\n",
    "    if hills[-1] - hills[1] > 17:\n",
    "        change[0] = hills[1] - hills[0]\n",
    "        hills[0]+=change[0]\n",
    "    hills.sort()\n",
    "    print(hills)\n",
    "    if hills[-2] - hills[0] > 17 :\n",
    "        change[-1] = hills[-2] - hills[-2]\n",
    "        hills[-1] -= change[-1]\n",
    "    hills.sort()\n",
    "    print(hills)\n",
    "    for i in change:\n",
    "        cost+=pow(i,2)\n",
    "    return cost\n",
    "hillCheck(hillList)"
   ],
   "outputs": [
    {
     "output_type": "stream",
     "name": "stdout",
     "text": [
      "[4, 4, 20, 21, 24]\n",
      "[4, 4, 20, 21, 24]\n"
     ]
    },
    {
     "output_type": "execute_result",
     "data": {
      "text/plain": [
       "9"
      ]
     },
     "metadata": {},
     "execution_count": 2
    }
   ],
   "metadata": {}
  },
  {
   "cell_type": "markdown",
   "source": [
    "<h2>Project #24: Cow Baseball</h2>\n",
    "<a href=\"http://www.usaco.org/index.php?page=viewproblem2&cpid=359\">Problem found here </a>\n",
    "<p>There are between 3 and 1000 cows inclusive playing baseball. Each throw must be as long but not more than twice as long as the previous throw. The goal is to count the maximum number of trios of cows that are possible based on the input positions.</p>\n",
    "\n",
    "- combinations of the cows positions, sorted\n",
    "- iterate through each to find ones that satisfy a condition\n",
    "- keep track of each possible trio\n"
   ],
   "metadata": {}
  },
  {
   "cell_type": "code",
   "execution_count": 1,
   "source": [
    "from itertools import combinations\n",
    "cowLocations = [7,16,14,23,18,1,6,11]\n",
    "\n",
    "def cowPositions(locations:list):\n",
    "    locations.sort()\n",
    "    perms = list(combinations(locations,3))\n",
    "    possibleThrows = []\n",
    "    count = 0\n",
    "    for p in perms:\n",
    "        throw1=p[1]-p[0]\n",
    "        throw2=p[2]-p[1]\n",
    "        if throw2 >= throw1 and throw2 <= 2*throw1:\n",
    "            possibleThrows.append(p)\n",
    "            count+=1\n",
    "    return count, possibleThrows\n",
    "\n",
    "print(cowPositions(cowLocations)[0])"
   ],
   "outputs": [
    {
     "output_type": "stream",
     "name": "stdout",
     "text": [
      "17\n"
     ]
    }
   ],
   "metadata": {}
  }
 ],
 "metadata": {
  "orig_nbformat": 4,
  "language_info": {
   "name": "python",
   "version": "3.9.6",
   "mimetype": "text/x-python",
   "codemirror_mode": {
    "name": "ipython",
    "version": 3
   },
   "pygments_lexer": "ipython3",
   "nbconvert_exporter": "python",
   "file_extension": ".py"
  },
  "kernelspec": {
   "name": "python3",
   "display_name": "Python 3.9.6 64-bit"
  },
  "interpreter": {
   "hash": "aee8b7b246df8f9039afb4144a1f6fd8d2ca17a180786b69acc140d282b71a49"
  }
 },
 "nbformat": 4,
 "nbformat_minor": 2
}