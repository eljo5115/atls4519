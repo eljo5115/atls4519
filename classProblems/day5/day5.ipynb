{
 "cells": [
  {
   "cell_type": "markdown",
   "source": [
    "<h1>Day 5 Projects</h1>\n",
    "<h2>Project #13: Cracking the Caesar Cypher</h2>\n",
    "<p>A Caesar Cypher encoded message can be brute forced pretty simply by finding all possible keys, or shifts of the letters (1-26). To start, we'll need the caesarCypher function from yesterday.</p>"
   ],
   "metadata": {}
  },
  {
   "cell_type": "code",
   "execution_count": 54,
   "source": [
    "message = 'wfymjw htsatqzyji hnwhzrxyfshjx mfaj ktzsi rj wjxtwynsl yt xtrjymnsl wfymjw xjajwj.'\n",
    "\n",
    "def caesarCypher(string, key):\n",
    "    letters = ['a','b','c','d','e','f','g','h','i','j','k','l','m','n','o','p','q','r','s','t','u','v','w','x','y','z']\n",
    "    string = string.lower()\n",
    "    newString = \"\"\n",
    "    for i in range(len(string)):\n",
    "        if string[i] in letters:\n",
    "            letterIndex = letters.index(string[i]) + key\n",
    "            if letterIndex > len(letters)-1:\n",
    "                letterIndex = letterIndex - len(letters)\n",
    "            newString += letters[letterIndex]\n",
    "        else:\n",
    "            newString += string[i]\n",
    "        \n",
    "    return newString\n",
    "\n",
    "def caesarBruteForce(phrase):\n",
    "    with open(\"../resources/2of4brif.txt\") as f:\n",
    "        dictionary = f.read()\n",
    "    \n",
    "    for i in range(1,26):\n",
    "        isWord = []\n",
    "        output = \"\"\n",
    "        work = caesarCypher(phrase,i)\n",
    "        key = i\n",
    "        work = work.split()\n",
    "        for word in work:\n",
    "            if word in dictionary and len(word) > 4:\n",
    "                return work, i\n",
    "                \n",
    "\n",
    "caesarBruteForce(message)"
   ],
   "outputs": [
    {
     "output_type": "execute_result",
     "data": {
      "text/plain": [
       "(['rather',\n",
       "  'convoluted',\n",
       "  'circumstances',\n",
       "  'have',\n",
       "  'found',\n",
       "  'me',\n",
       "  'resorting',\n",
       "  'to',\n",
       "  'something',\n",
       "  'rather',\n",
       "  'severe.'],\n",
       " 21)"
      ]
     },
     "metadata": {},
     "execution_count": 54
    }
   ],
   "metadata": {}
  },
  {
   "cell_type": "markdown",
   "source": [
    "<h2>Project #14: Encrypting with a Transposition Cypher</h2>\n",
    "<p>Transposition cypher is a way of encrypting a message using a key value to determine the number of rows in a table which the message is then read into before being read back vertically instead of horizontally.</p>"
   ],
   "metadata": {}
  },
  {
   "cell_type": "markdown",
   "source": [
    "- take user input and key value\n",
    "- count out each row of length key value into seperate strings or lists\n",
    "- add index 0's together from each row, add index 1's together, etc..\n",
    "- "
   ],
   "metadata": {}
  },
  {
   "cell_type": "code",
   "execution_count": 3,
   "source": [
    "import math\n",
    "\n",
    "phrase = \"this is a message.\"\n",
    "\n",
    "def transpositionCypher(phrase, key):\n",
    "    i = 0\n",
    "    rows = math.ceil(len(phrase)/key)\n",
    "    newPhrase = \"\"\n",
    "    while i < key:\n",
    "        j = 0\n",
    "        while j < rows:\n",
    "            value = i + (key*j)\n",
    "            if value >= len(phrase):\n",
    "                break\n",
    "            newPhrase+= phrase[value]\n",
    "            j+=1\n",
    "        i+=1\n",
    "    return newPhrase\n",
    "    \n",
    "transpositionCypher(phrase, 5)"
   ],
   "outputs": [
    {
     "output_type": "execute_result",
     "data": {
      "text/plain": [
       "'timghseei s.sas  a'"
      ]
     },
     "metadata": {},
     "execution_count": 3
    }
   ],
   "metadata": {}
  },
  {
   "cell_type": "markdown",
   "source": [
    "<p>Now time to decrypt the encoded message.</p>\n",
    "\n",
    "- take the input and calculate the number of columns (length / key)\n",
    "- rows are equal to the key\n",
    "- calculate the number of shaded boxes in the last column (total grid size - length of the phrase)\n",
    "- define an empty list of strings to represent the \"grid\"\n",
    "- iterate through the input phrase and put the letters/symbols into their respective \"rows\" and \"columns\"\n",
    "- check if we are in the last row or the next to last row and the next box is shaded\n",
    "- final product is a list of strings representing each column\n",
    "- loop through and concatenate those strings and that's the output"
   ],
   "metadata": {}
  },
  {
   "cell_type": "code",
   "execution_count": 22,
   "source": [
    "import math\n",
    "\n",
    "phrase = 'timghseei s.sas  a'\n",
    "\n",
    "def transpositionDecypher(phrase, key):\n",
    "    i = 0\n",
    "    numColumns = math.ceil(len(phrase)/(key))\n",
    "    numRows = key\n",
    "    shadedBoxes = numColumns*numRows - len(phrase)\n",
    "    newPhrase = [\"\"] * numColumns\n",
    "    column = 0\n",
    "    row = 0\n",
    "\n",
    "    for symbol in phrase:\n",
    "        newPhrase[column] += symbol\n",
    "        column += 1\n",
    "        if (column == numColumns) or (column == numColumns -1 and row >= numRows - shadedBoxes):\n",
    "            column = 0\n",
    "            row += 1\n",
    "\n",
    "    output = ''\n",
    "    for part in newPhrase:\n",
    "        output += part\n",
    "    return output\n",
    "    \n",
    "transpositionDecypher(phrase, 5)"
   ],
   "outputs": [
    {
     "output_type": "execute_result",
     "data": {
      "text/plain": [
       "'this is a message.'"
      ]
     },
     "metadata": {},
     "execution_count": 22
    }
   ],
   "metadata": {}
  },
  {
   "cell_type": "markdown",
   "source": [
    "<h2>Project #14: Simple Substitution Cypher</h2>\n",
    "<p>A simple substitution cypher is simply replacing letters with other letters using a specific alphabet key index. </p>"
   ],
   "metadata": {}
  },
  {
   "cell_type": "markdown",
   "source": [
    "- take phrase and key index from user\n",
    "- iterate through the phrase and store index from alphabet\n",
    "- letter in the encrypted phrase has the same index in the key index\n",
    "\n",
    "<p>This function has the option to encrypt or decrypt with a boolean argument. The decryption follows the same logical pattern as the encryption but initially searches the key index for the index from the phrase</p>"
   ],
   "metadata": {}
  },
  {
   "cell_type": "code",
   "execution_count": 30,
   "source": [
    "phrase = \"this is a message\"\n",
    "keyboardAlphabet = \"qwertyuiopasdfghjklzxcvbnm\"\n",
    "\n",
    "def substitutionCypher(phrase, keyIndex, decrypt=False):\n",
    "    letters = \"abcdefghijklmnopqrstuvwxyz\"\n",
    "    output = \"\"\n",
    "    if not decrypt:\n",
    "        for i in range(len(phrase)):\n",
    "            if phrase[i] in letters:\n",
    "                place = letters.index(phrase[i])\n",
    "                output += keyIndex[place]\n",
    "            else:\n",
    "                output+=phrase[i]\n",
    "        return output\n",
    "    elif decrypt:\n",
    "        for i in range(len(phrase)):\n",
    "            if phrase[i] in letters:\n",
    "                place = keyIndex.index(phrase[i])\n",
    "                output += letters[place]\n",
    "            else:\n",
    "                output+=phrase[i]\n",
    "        return output\n",
    "\n",
    "substitutionCypher(phrase,keyboardAlphabet)"
   ],
   "outputs": [
    {
     "output_type": "execute_result",
     "data": {
      "text/plain": [
       "'this is a message'"
      ]
     },
     "metadata": {},
     "execution_count": 30
    }
   ],
   "metadata": {}
  },
  {
   "cell_type": "code",
   "execution_count": null,
   "source": [],
   "outputs": [],
   "metadata": {}
  }
 ],
 "metadata": {
  "orig_nbformat": 4,
  "language_info": {
   "name": "python",
   "version": "3.9.6",
   "mimetype": "text/x-python",
   "codemirror_mode": {
    "name": "ipython",
    "version": 3
   },
   "pygments_lexer": "ipython3",
   "nbconvert_exporter": "python",
   "file_extension": ".py"
  },
  "kernelspec": {
   "name": "python3",
   "display_name": "Python 3.9.6 64-bit"
  },
  "interpreter": {
   "hash": "aee8b7b246df8f9039afb4144a1f6fd8d2ca17a180786b69acc140d282b71a49"
  }
 },
 "nbformat": 4,
 "nbformat_minor": 2
}