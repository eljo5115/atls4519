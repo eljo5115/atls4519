{
 "cells": [
  {
   "cell_type": "markdown",
   "source": [
    "<h1>Day 10 Problems</h1>\n",
    "<h2>Project #31: \"Moo\" cryption</h2>\n",
    "<a href = \"http://www.usaco.org/index.php?page=viewproblem2&cpid=545\">Problem here</a>\n",
    "<p>The goal here is to find instances of \"MOO\" in a word search puzzle. Moo can be spelled forwards or backwards and searches include vertical, horizontal, and diagonal.</p>\n",
    "\n",
    "- brute force a substitution cypher? need an algorithm to search the puzzle for \"MOO\" or \"OOM\" as it brute forces\n",
    "- but also we could just change our search to \"letter1,letter2,letter2\" and the reverse and iterate through those possible combinations\n",
    "- parse the input to find the letters in the puzzle to include in the search (essentially ignore letters that aren't in the puzzle)"
   ],
   "metadata": {}
  },
  {
   "cell_type": "markdown",
   "source": [
    "<p>The first thing I did was create functions to create strings from the current row and column index (horizontal, vertical, diagonal). We can store the word puzzle as a list of strings for each row to iterate through easily. Below are the functions defined to create different directional slices.</p>\n",
    "\n",
    "- horizontal slices are simple python slices [index:index+3] creates a slice 3 letters long\n",
    "- vertical slices appear more complex just because they must be concatenated across the strings in the list\n",
    "- diagonal slices are complex due to addition in 2 directions at once"
   ],
   "metadata": {}
  },
  {
   "cell_type": "code",
   "execution_count": 14,
   "source": [
    "puzzle = [\n",
    "\"TAMHGI\",\n",
    "\"MMQVWM\",\n",
    "\"QMMQSM\",\n",
    "\"HBQUMQ\"\n",
    "]\n",
    "\n",
    "puzzleLetters = []\n",
    "letters = [\"ABCDEFGHIJKLMNOPQRSTUVWXYZ\"]\n",
    "slices = []\n",
    "\n",
    "def horizontalSlice(row,column):\n",
    "    if column+3 <= len(puzzle[row])-1 and row <= len(puzzle)-1:\n",
    "        return puzzle[row][column:column+3]\n",
    "    else:\n",
    "        return \"AAA\"\n",
    "\n",
    "def verticalSlice(row,column):\n",
    "    if row+2 <= len(puzzle)-1 and column <= len(puzzle[row])-1:\n",
    "        return puzzle[row][column] + puzzle[row+1][column] + puzzle[row+2][column]\n",
    "    else:\n",
    "        return \"AAA\"\n",
    "\n",
    "def diagonalSlice(row,column):\n",
    "    upRight = \"AAA\"\n",
    "    downRight = \"AAA\"\n",
    "    if (0<= row+2 <len(puzzle) and 0<= column+2<len(puzzle[row])): \n",
    "        downRight = puzzle[row][column] + puzzle[row+1][column+1] + puzzle[row+2][column+2]\n",
    "    elif (row-2 >= 0 and column+2 < len(puzzle[row])):\n",
    "        upRight = puzzle[row][column] + puzzle[row-1][column+1] + puzzle[row-2][column+2]\n",
    "        \n",
    "    return upRight,downRight\n",
    "\n",
    "for i in range(len(puzzle)):\n",
    "    for j in range(len(puzzle[i])):\n",
    "        if horizontalSlice(i,j) != \"AAA\":\n",
    "            slices.append(horizontalSlice(i,j))\n",
    "        if verticalSlice(i,j) != \"AAA\":\n",
    "            slices.append(verticalSlice(i,j))\n",
    "        if diagonalSlice(i,j)[0] != \"AAA\":\n",
    "            slices.append(diagonalSlice(i,j)[0])\n",
    "        if diagonalSlice(i,j)[1] != \"AAA\":\n",
    "            slices.append(diagonalSlice(i,j)[1])\n",
    "\n",
    "print(slices)"
   ],
   "outputs": [
    {
     "output_type": "stream",
     "name": "stdout",
     "text": [
      "['TAM', 'TMQ', 'TMM', 'AMH', 'AMM', 'AQQ', 'MHG', 'MQM', 'MVS', 'HVQ', 'HWM', 'GWS', 'IMM', 'MMQ', 'MQH', 'MMQ', 'MQV', 'MMB', 'MMU', 'QVW', 'QMQ', 'QQM', 'VQU', 'VSQ', 'WSM', 'MMQ', 'QMM', 'QMM', 'MMQ', 'MQH', 'MQS', 'MVG', 'QWI', 'HBQ', 'HMQ', 'BQU', 'BMV', 'QUM', 'QQW', 'USM']\n"
     ]
    }
   ],
   "metadata": {}
  },
  {
   "cell_type": "markdown",
   "source": [
    "<p>Now we can create terms to search for in the above listed slices.</p>"
   ],
   "metadata": {}
  },
  {
   "cell_type": "code",
   "execution_count": 29,
   "source": [
    "for row in range(len(puzzle)):\n",
    "    for column in range(len(puzzle)):\n",
    "        if puzzle[row][column] not in puzzleLetters:\n",
    "            puzzleLetters.append(puzzle[row][column])\n",
    "\n",
    "searchTerms = []\n",
    "\n",
    "for letter in puzzleLetters:\n",
    "    for letter2 in puzzleLetters:\n",
    "        if letter2 == letter:\n",
    "            if puzzleLetters.index(letter2)+1 < len(puzzleLetters):\n",
    "                letter2 = puzzleLetters[puzzleLetters.index(letter2)+1]\n",
    "            else:\n",
    "                letter2 = puzzleLetters[0]\n",
    "            searchTerm = letter + letter2 + letter2\n",
    "            searchTerms.append(searchTerm)\n",
    "\n",
    "maxCount = 0\n",
    "count = 0\n",
    "letterCounter = {}\n",
    "letterCount1 = 0\n",
    "letter1 = \"\"\n",
    "letterCount2 = 0\n",
    "letter2 = \"\"\n",
    "for s in slices:\n",
    "    if (s[0] == s[1] and s[0]!=s[2]) or (s[0] != s[2] and s[1] == s[2]):\n",
    "        if s[0] in letterCounter.keys():\n",
    "            letterCounter[s[0]] += 1\n",
    "        elif s[0] not in letterCounter.keys():\n",
    "            letterCounter[s[0]] = 1\n",
    "        if s[1] in letterCounter.keys():\n",
    "            letterCounter[s[1]] += 1\n",
    "        elif s[1] not in letterCounter.keys():\n",
    "            letterCounter[s[1]] = 1\n",
    "        if s[2] in letterCounter.keys():\n",
    "            letterCounter[s[2]] += 1\n",
    "        elif s[2] not in letterCounter.keys():\n",
    "            letterCounter[s[2]] = 1\n",
    "        count+=1\n",
    "for i in letterCounter.keys():\n",
    "    if letterCounter[i] > letterCount1 or letterCounter[i] > letterCount2:\n",
    "        if letterCounter[i] > letterCount1:\n",
    "            letterCount1 = letterCounter[i]\n",
    "            letter1 = i\n",
    "        if letterCounter[i] > letterCount2 and letterCounter[i] < letterCount1:\n",
    "            letterCount2 = letterCounter[i]\n",
    "            letter2 = i\n",
    "\n",
    "\n",
    "print(letter1,letter2)\n",
    "\n",
    "print(letterCounter)\n",
    "print(count)\n",
    "    "
   ],
   "outputs": [
    {
     "output_type": "stream",
     "name": "stdout",
     "text": [
      "M Q\n",
      "{'T': 1, 'M': 23, 'A': 2, 'Q': 12, 'I': 1, 'B': 1, 'U': 1, 'W': 1}\n",
      "14\n"
     ]
    }
   ],
   "metadata": {}
  },
  {
   "cell_type": "markdown",
   "source": [
    "<h2>Project #32: Bessie Gets Even</h2>\n",
    "<a href = \"http://www.usaco.org/index.php?page=viewproblem2&cpid=546\">Problem here</a>\n",
    "<p>Given an input of possible values for B,E,S,I,G,O,M find all the ways that the expression can possbily be even.</p>"
   ],
   "metadata": {}
  },
  {
   "cell_type": "code",
   "execution_count": 88,
   "source": [
    "\n",
    "\n",
    "letterB=[2,3]\n",
    "letterE=[5]\n",
    "letterS=[7]\n",
    "letterI=[9,10]\n",
    "letterG=[1]\n",
    "letterO=[16]\n",
    "letterM=[2,19]\n",
    "\n",
    "finalCount = 0\n",
    "\n",
    "for b in letterB:\n",
    "    for e in letterE:\n",
    "        for s in letterS:\n",
    "            for i in letterI:\n",
    "                for g in letterG:\n",
    "                    for o in letterO:\n",
    "                        for m in letterM:\n",
    "\n",
    "                            BESSIE = b +2*s+2*e+ i\n",
    "                            GOES = g+o+e+s\n",
    "                            MOO = m +2*o\n",
    "\n",
    "                            if not(BESSIE %2 !=0 and GOES%2 != 0 and MOO != 0):\n",
    "                                finalCount += 1\n",
    "\n",
    "print(finalCount)"
   ],
   "outputs": [
    {
     "output_type": "stream",
     "name": "stdout",
     "text": [
      "4\n"
     ]
    }
   ],
   "metadata": {}
  },
  {
   "cell_type": "markdown",
   "source": [
    "<h2>Project #33: Trapped in the Haybales</h2>\n",
    "<a href = \"http://www.usaco.org/index.php?page=viewproblem2&cpid=547\">Problem here</a>\n",
    "<p>Bessie has to have a running start <h3><b>strictly greater than the size of the bale.</b></h3> Escape is breaking out of the rightmost or leftmost bale. </p>\n",
    "\n",
    "<p>The most straightforward way of solving this problem is storing the bale information in a class for simpler data access and organization (and for a numpy number line later on). The tricky part is determining which bales can be broken, and then breaking them. The simplest way of deciding which bales are breakable rely on calculating the amount of space to the left or to the right. "
   ],
   "metadata": {}
  },
  {
   "cell_type": "code",
   "execution_count": 129,
   "source": [
    "class Bale:\n",
    "    def __init__(self,size,position):\n",
    "        self.size = size\n",
    "        self.position = position\n",
    "        self.breakableFromLeft = False\n",
    "        self.breakableFromRight = False\n",
    "        self.isEndpoint = False\n",
    "    def isBreakable(self,leftBale,rightBale):\n",
    "        if not self.isEndpoint:\n",
    "            if self.position - leftBale.position > self.size:\n",
    "                self.breakableFromLeft = True\n",
    "            else:\n",
    "                self.breakableFromLeft = False\n",
    "            if rightBale.position - self.position > self.size:\n",
    "                self.breakableFromRight = True\n",
    "            else:\n",
    "                self.breakableFromRight = False\n",
    "        elif self.isEndpoint:\n",
    "            if self.position - leftBale.position > self.size or rightBale.position - self.position > self.size:\n",
    "                self.breakableFromLeft = True\n",
    "            else:\n",
    "                self.breakableFromLeft = False"
   ],
   "outputs": [],
   "metadata": {}
  },
  {
   "cell_type": "code",
   "execution_count": 136,
   "source": [
    "from operator import itemgetter\n",
    "\n",
    "baleInput = [[8,1],[1,4],[8,8],[7,15],[4,20]]\n",
    "baleInput = sorted(baleInput, key=itemgetter(1)) #sorts bales by positions\n",
    "bales = []\n",
    "\n",
    "for i in range(len(baleInput)):\n",
    "    bales.append(Bale(baleInput[i][0],baleInput[i][1]))\n",
    "\n",
    "bales[0].isEndpoint = True\n",
    "bales[-1].isEndpoint = True\n",
    "\n",
    "for i in range(len(bales)-1):\n",
    "    bales[i].isBreakable(bales[i-1],bales[i+1])\n",
    "\n",
    "for i in range(len(bales),0,-1):\n",
    "    if bales[i].breakableFromLeft:\n",
    "        \n",
    "for bale in bales:\n",
    "    print(bale.position,bale.size,bale.breakableFromRight)\n",
    "\n",
    " "
   ],
   "outputs": [
    {
     "output_type": "error",
     "ename": "IndentationError",
     "evalue": "expected an indented block (1832742715.py, line 19)",
     "traceback": [
      "\u001b[0;36m  Input \u001b[0;32mIn [136]\u001b[0;36m\u001b[0m\n\u001b[0;31m    for bale in bales:\u001b[0m\n\u001b[0m                      ^\u001b[0m\n\u001b[0;31mIndentationError\u001b[0m\u001b[0;31m:\u001b[0m expected an indented block\n"
     ]
    }
   ],
   "metadata": {}
  },
  {
   "cell_type": "markdown",
   "source": [
    "<h2>Project #34: Palindromic Paths</h2>\n",
    "<a href = \"http://www.usaco.org/index.php?page=viewproblem2&cpid=548\"> Problem here</a>\n",
    "<p>Bessie walks from the top right to the bottom left of the fields each step taking one step down or one step to the right, keeping track of each letter she walks across</p>"
   ],
   "metadata": {}
  },
  {
   "cell_type": "code",
   "execution_count": null,
   "source": [
    "size = 4\n",
    "\n",
    "fields = [\n",
    "    \"ABCD\",\n",
    "    \"BXZX\",\n",
    "    \"CDXB\",\n",
    "    \"WCBA\"\n",
    "    ]\n",
    "\n",
    "for i in range(1, size):\n",
    "    row1=row\n",
    "    row2=-row\n",
    "    column1=column\n",
    "    column2=-column\n",
    "    if (fields[row1][column1]!=fields[row2][column2]):\n",
    "        continue\n",
    "        "
   ],
   "outputs": [],
   "metadata": {}
  }
 ],
 "metadata": {
  "orig_nbformat": 4,
  "language_info": {
   "name": "python",
   "version": "3.9.6",
   "mimetype": "text/x-python",
   "codemirror_mode": {
    "name": "ipython",
    "version": 3
   },
   "pygments_lexer": "ipython3",
   "nbconvert_exporter": "python",
   "file_extension": ".py"
  },
  "kernelspec": {
   "name": "python3",
   "display_name": "Python 3.9.6 64-bit"
  },
  "interpreter": {
   "hash": "aee8b7b246df8f9039afb4144a1f6fd8d2ca17a180786b69acc140d282b71a49"
  }
 },
 "nbformat": 4,
 "nbformat_minor": 2
}