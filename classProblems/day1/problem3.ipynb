{
 "cells": [
  {
   "cell_type": "markdown",
   "source": [
    "open text list\n",
    "\n",
    "for loop to loop through the entire list\n",
    "for loop to loop through each phrase\n",
    "\n",
    "if a word is a palindrome the following is true as long as i < word length\n",
    "\n",
    "word[i] == word[-i-1]\n",
    "\n",
    "therefore the following python code checks a word for palindromity"
   ],
   "metadata": {}
  },
  {
   "cell_type": "code",
   "execution_count": 3,
   "source": [
    "word = \"kayak\"\n",
    "\n",
    "for i in range(len(word)):\n",
    "    if word[i] != word[-i-1]:\n",
    "        print(\"not a palindrome\")\n",
    "    elif i >= len(word)-1:\n",
    "        print(\"palindrome\")\n"
   ],
   "outputs": [
    {
     "output_type": "stream",
     "name": "stdout",
     "text": [
      "palindrome\n"
     ]
    }
   ],
   "metadata": {}
  },
  {
   "cell_type": "markdown",
   "source": [
    "<p>to check all combinations, nested for loops can be used to test every word\n",
    "the idea is that the first word will be combined with every other word in the dictionary\n",
    "to simplify the code, a function can be created using the above logic</p>\n"
   ],
   "metadata": {}
  },
  {
   "cell_type": "code",
   "execution_count": 4,
   "source": [
    "def palindromeChecker(word):\n",
    "    for i in range(len(word)):\n",
    "        if word[i] != word[-i-1]:\n",
    "            return False\n",
    "        elif i >= len(word)-1:\n",
    "            return True"
   ],
   "outputs": [],
   "metadata": {}
  },
  {
   "cell_type": "markdown",
   "source": [
    "So now we check to make sure the function works as it did before"
   ],
   "metadata": {}
  },
  {
   "cell_type": "code",
   "execution_count": 5,
   "source": [
    "print(palindromeChecker(\"kayak\"))\n",
    "print(palindromeChecker(\"reach\"))"
   ],
   "outputs": [
    {
     "output_type": "stream",
     "name": "stdout",
     "text": [
      "True\n",
      "False\n"
     ]
    }
   ],
   "metadata": {}
  },
  {
   "cell_type": "markdown",
   "source": [
    "<p>Great! so now any string we put into the function will return a boolean value\n",
    "<br>We just need a method of creating the phrases from the dictionary</p>"
   ],
   "metadata": {}
  },
  {
   "cell_type": "code",
   "execution_count": 34,
   "source": [
    "dictionary = open(\"../resources/dictionary.txt\",\"r\")\n",
    "dictionary2 = dictionary\n",
    "palingrams = []\n",
    "comboList = []\n",
    "wordList = []\n",
    "for word in dictionary:\n",
    "    word = word.strip()\n",
    "    wordList.append(word)\n",
    "for word in wordList:\n",
    "    for word2 in wordList:\n",
    "        comboList.append(word + word2)\n",
    "print(comboList)\n",
    "print(palingrams)\n",
    "            \n",
    "\n",
    "    \n"
   ],
   "outputs": [],
   "metadata": {}
  }
 ],
 "metadata": {
  "orig_nbformat": 4,
  "language_info": {
   "name": "python",
   "version": "3.9.6",
   "mimetype": "text/x-python",
   "codemirror_mode": {
    "name": "ipython",
    "version": 3
   },
   "pygments_lexer": "ipython3",
   "nbconvert_exporter": "python",
   "file_extension": ".py"
  },
  "kernelspec": {
   "name": "python3",
   "display_name": "Python 3.9.6 64-bit"
  },
  "interpreter": {
   "hash": "aee8b7b246df8f9039afb4144a1f6fd8d2ca17a180786b69acc140d282b71a49"
  }
 },
 "nbformat": 4,
 "nbformat_minor": 2
}