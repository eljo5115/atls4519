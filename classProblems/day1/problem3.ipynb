{
 "cells": [
  {
   "cell_type": "markdown",
   "source": [
    "open text list\n",
    "\n",
    "for loop to loop through the entire list\n",
    "for loop to loop through each phrase\n",
    "\n",
    "if a word is a palindrome the following is true as long as i < word length\n",
    "\n",
    "word[i] == word[-i-1]\n",
    "\n",
    "therefore the following python code checks a word for palindromity"
   ],
   "metadata": {}
  },
  {
   "cell_type": "code",
   "execution_count": 3,
   "source": [
    "word = \"kayak\"\n",
    "\n",
    "for i in range(len(word)):\n",
    "    if word[i] != word[-i-1]:\n",
    "        print(\"not a palindrome\")\n",
    "    elif i >= len(word)-1:\n",
    "        print(\"palindrome\")\n"
   ],
   "outputs": [
    {
     "output_type": "stream",
     "name": "stdout",
     "text": [
      "palindrome\n"
     ]
    }
   ],
   "metadata": {}
  },
  {
   "cell_type": "markdown",
   "source": [
    "to check all combinations, nested for loops can be used to test every word\n",
    "the idea is that the first word will be combined with every other word in the dictionary\n",
    "to simplify the code, a function can be created using the above logic\n"
   ],
   "metadata": {}
  },
  {
   "cell_type": "code",
   "execution_count": 4,
   "source": [
    "def palindromeChecker(word):\n",
    "    for i in range(len(word)):\n",
    "        if word[i] != word[-i-1]:\n",
    "            return False\n",
    "        elif i >= len(word)-1:\n",
    "            return True"
   ],
   "outputs": [],
   "metadata": {}
  },
  {
   "cell_type": "markdown",
   "source": [
    "So now we check to make sure the function works as it did before"
   ],
   "metadata": {}
  },
  {
   "cell_type": "code",
   "execution_count": 6,
   "source": [
    "print(palindromeChecker(\"kayak\"))\n",
    "print(palindromeChecker(\"reach\"))"
   ],
   "outputs": [
    {
     "output_type": "stream",
     "name": "stdout",
     "text": [
      "True\n",
      "False\n"
     ]
    }
   ],
   "metadata": {}
  },
  {
   "cell_type": "markdown",
   "source": [
    "Great! so now any string we put into the function will return a boolean value"
   ],
   "metadata": {}
  }
 ],
 "metadata": {
  "orig_nbformat": 4,
  "language_info": {
   "name": "python",
   "version": "3.9.6",
   "mimetype": "text/x-python",
   "codemirror_mode": {
    "name": "ipython",
    "version": 3
   },
   "pygments_lexer": "ipython3",
   "nbconvert_exporter": "python",
   "file_extension": ".py"
  },
  "kernelspec": {
   "name": "python3",
   "display_name": "Python 3.9.6 64-bit ('eli-tJKmfuZq': pipenv)"
  },
  "interpreter": {
   "hash": "88a2cdf4a39821465f0cc211cb82068f0a0d18b6d596e07c3686036c05289350"
  }
 },
 "nbformat": 4,
 "nbformat_minor": 2
}