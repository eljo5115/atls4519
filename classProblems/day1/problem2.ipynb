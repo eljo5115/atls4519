{
 "cells": [
  {
   "cell_type": "markdown",
   "source": [
    "for loop to iterate through every word\n",
    "for each word check the spelling iterate backwards and check for equality\n",
    "list of words \n",
    "list of palindromes [empty at t = 0]\n",
    "\n",
    "ex: reach - \n",
    "i = 0\n",
    "word[i] = r, word[-i-1] = h\n",
    "i=1\n",
    "word[i] = e, word[-i-1] = c\n",
    "i=2\n",
    "word[i] = a, word[-i-1] = a\n",
    "i=3\n",
    "word[i] = c, word[-i-1] = e\n",
    "i=4\n",
    "word[i] = h, word[-i-1] = r\n",
    "ex: racecar - \n",
    "i = 0\n",
    "word[i] = r, word[-i-1] = r\n",
    "i=1\n",
    "word[i] = a, word[-i-1] = a\n",
    "i=2\n",
    "word[i] = c, word[-i-1] = c\n",
    "i=3\n",
    "word[i] = e, word[-i-1] = e\n",
    "i=4\n",
    "word[i] = c, word[-i-1] = c\n",
    "i=5\n",
    "word[i] = a, word[-i-1] = a\n",
    "i=6\n",
    "word[i] = r, word[-i-1] = r\n",
    "----------------------------------------\n",
    "word[i] == word[-i-1]\n",
    "\n",
    "if letters are not equal \n",
    "    break\n",
    "else \n",
    "    add word to palindrome list"
   ],
   "metadata": {}
  },
  {
   "cell_type": "code",
   "execution_count": 45,
   "source": [
    "word = \"reach\"\n",
    "\n",
    "for i in range(len(word) - 1):\n",
    "    if word[i] != word[len(word)-(i+1)]:\n",
    "        print(\"not a palindrome\")\n",
    "        break\n",
    "    elif word[i] == word[len(word)-1]:\n",
    "        print(word)"
   ],
   "outputs": [
    {
     "output_type": "stream",
     "name": "stdout",
     "text": [
      "not a palindrome\n"
     ]
    }
   ],
   "metadata": {}
  },
  {
   "cell_type": "code",
   "execution_count": 44,
   "source": [
    "word = \"kayak\"\n",
    "\n",
    "for i in range(len(word) - 1):\n",
    "    if word[i] != word[len(word)-(i+1)]:\n",
    "        print(\"not a palindrome\")\n",
    "        break\n",
    "    elif word[i] == word[len(word)-1]:\n",
    "        print(\"palindrome\")"
   ],
   "outputs": [
    {
     "output_type": "stream",
     "name": "stdout",
     "text": [
      "palindrome\n"
     ]
    }
   ],
   "metadata": {}
  },
  {
   "cell_type": "code",
   "execution_count": 64,
   "source": [
    "dictionary = open(\"./dictionary.txt\", \"r\")\n",
    "palindromes = [] #list to store palindromes\n",
    "for word in dictionary:\n",
    "    word = word.strip()\n",
    "    for i in range(0, len(word) - 1):\n",
    "        if word[i] != word[len(word)-(i+1)]:\n",
    "            break\n",
    "        elif i >= ((len(word) - 1 )/ 2):\n",
    "            palindromes.append(word)\n",
    "            break\n",
    "for i in palindromes:\n",
    "    print(i)\n",
    "#print(palindromes)   "
   ],
   "outputs": [
    {
     "output_type": "stream",
     "name": "stdout",
     "text": [
      "ABABA\n",
      "ABBA\n",
      "ADA\n",
      "ANNA\n",
      "BIB\n",
      "BOB\n",
      "BOOB\n",
      "CIVIC\n",
      "DAD\n",
      "DEED\n",
      "DID\n",
      "DUD\n",
      "EKE\n",
      "ERE\n",
      "EVE\n",
      "EWE\n",
      "EYE\n",
      "GAG\n",
      "GIG\n",
      "HANNAH\n",
      "HUH\n",
      "LEVEL\n",
      "MADAM\n",
      "NAN\n",
      "NON\n",
      "NOON\n",
      "NUN\n",
      "OTTO\n",
      "PEEP\n",
      "PEP\n",
      "PIP\n",
      "POP\n",
      "PUP\n",
      "RADAR\n",
      "REDDER\n",
      "REFER\n",
      "REVIVER\n",
      "ROTATOR\n",
      "ROTOR\n",
      "SEES\n",
      "SEXES\n",
      "SOLOS\n",
      "SUS\n",
      "TIT\n"
     ]
    }
   ],
   "metadata": {}
  }
 ],
 "metadata": {
  "orig_nbformat": 4,
  "language_info": {
   "name": "python",
   "version": "3.9.6",
   "mimetype": "text/x-python",
   "codemirror_mode": {
    "name": "ipython",
    "version": 3
   },
   "pygments_lexer": "ipython3",
   "nbconvert_exporter": "python",
   "file_extension": ".py"
  },
  "kernelspec": {
   "name": "python3",
   "display_name": "Python 3.9.6 64-bit"
  },
  "interpreter": {
   "hash": "aee8b7b246df8f9039afb4144a1f6fd8d2ca17a180786b69acc140d282b71a49"
  }
 },
 "nbformat": 4,
 "nbformat_minor": 2
}