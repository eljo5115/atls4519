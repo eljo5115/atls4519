{
 "cells": [
  {
   "cell_type": "markdown",
   "source": [
    "import random\n",
    "\n",
    "define 3 lists -- honorifics, fnames, lnames\n",
    "generate 3 random numbers < list length\n",
    "honorific -> set to random valuse from honorifics list\n",
    "fname -> set to random value from fnames list\n",
    "lname -> set to random value from lnames list\n",
    "\n",
    "concatenate generated variables\n",
    "print final"
   ],
   "metadata": {}
  },
  {
   "cell_type": "code",
   "execution_count": 3,
   "source": [
    "import random\n",
    "\n",
    "honorific_list = [\" \", \"Amazing\", \"Esteemed\",\"Magnificent\", \"Horrid\"]\n",
    "first_names = [\" \", \"Hank\", \"Toni\", \"Blake\"]\n",
    "last_names = [\" \",\"Morales\",\"Smith\",\"Rigatoni\",\"Tom\"]\n",
    "\n",
    "fname_rand = random.randrange(0,len(first_names) - 1)\n",
    "honorific_rand = random.randrange(0,len(honorific_list) - 1)\n",
    "lname_rand = random.randrange(0,len(last_names) - 1)\n",
    "\n",
    "honorific = honorific_list[honorific_rand]\n",
    "fname = first_names[fname_rand]\n",
    "lname = last_names[lname_rand]\n",
    "\n",
    "print(honorific + \" \" + fname + \" \" + lname)"
   ],
   "outputs": [
    {
     "output_type": "stream",
     "name": "stdout",
     "text": [
      "Amazing   Rigatoni\n"
     ]
    }
   ],
   "metadata": {}
  }
 ],
 "metadata": {
  "orig_nbformat": 4,
  "language_info": {
   "name": "python",
   "version": "3.9.6",
   "mimetype": "text/x-python",
   "codemirror_mode": {
    "name": "ipython",
    "version": 3
   },
   "pygments_lexer": "ipython3",
   "nbconvert_exporter": "python",
   "file_extension": ".py"
  },
  "kernelspec": {
   "name": "python3",
   "display_name": "Python 3.9.6 64-bit"
  },
  "interpreter": {
   "hash": "aee8b7b246df8f9039afb4144a1f6fd8d2ca17a180786b69acc140d282b71a49"
  }
 },
 "nbformat": 4,
 "nbformat_minor": 2
}